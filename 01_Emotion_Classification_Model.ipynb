{
 "cells": [
  {
   "cell_type": "markdown",
   "metadata": {},
   "source": [
    "## Load Library"
   ]
  },
  {
   "cell_type": "code",
   "execution_count": 1,
   "metadata": {},
   "outputs": [],
   "source": [
    "# Epoch결과를 CSV파일로 streaming : CSVLogger\n",
    "# 각 Epoch 후 Model을 저장 : ModelCheckpoint\n",
    "# 개선되지 않으면 종료 : EarlyStopping\n",
    "from keras.callbacks import CSVLogger, ModelCheckpoint, EarlyStopping\n",
    "# 학습이 정체되면 Learning Rate 감소\n",
    "from keras.callbacks import ReduceLROnPlateau\n",
    "# 실시간 데이터 증가로 텐서 이미지의 batch 생성. Data augmentation 시 활용\n",
    "from keras.preprocessing.image import ImageDataGenerator\n",
    "from sklearn.model_selection import train_test_split\n",
    "from keras.layers import Activation, Convolution2D, Dropout, Conv2D\n",
    "from keras.layers import AveragePooling2D, BatchNormalization\n",
    "# GAP(Global Average Pooling)은 그냥 Pooling과 다른 용도로 사용.\n",
    "# 2D -> 1D로 만드는 효과. 이로 인해 최종 출력에 FC 대신에 사용할 수 있다.\n",
    "from keras.layers import GlobalAveragePooling2D\n",
    "from keras.models import Sequential\n",
    "from keras.layers import Flatten\n",
    "from keras.models import Model\n",
    "from keras.layers import Input\n",
    "from keras.layers import MaxPooling2D\n",
    "# Depthwise 진행 후 Separable. Depthwise Separable Convolution\n",
    "# Conv 진행, 서로 다른 channel끼리 정보 공유, parameter 감소 가능\n",
    "from keras.layers import SeparableConv2D\n",
    "from keras import layers\n",
    "# L1(절댓값)은 0에서 미분 불가능하며, outlier에 민감하지 않다.\n",
    "# 그래서 L2 regularization을 사용.\n",
    "from keras.regularizers import l2\n",
    "\n",
    "import tensorflow as tf\n",
    "import pandas as pd\n",
    "import cv2\n",
    "import numpy as np\n",
    "import os\n",
    "import glob"
   ]
  },
  {
   "cell_type": "markdown",
   "metadata": {},
   "source": [
    "## Load Datasets"
   ]
  },
  {
   "cell_type": "code",
   "execution_count": 2,
   "metadata": {},
   "outputs": [
    {
     "name": "stdout",
     "output_type": "stream",
     "text": [
      "data/neutral\n",
      "['data/neutral\\\\user1.jpg', 'data/neutral\\\\user10.jpg', 'data/neutral\\\\user100.jpg', 'data/neutral\\\\user1000.jpg', 'data/neutral\\\\user101.jpg', 'data/neutral\\\\user102.jpg', 'data/neutral\\\\user103.jpg', 'data/neutral\\\\user104.jpg', 'data/neutral\\\\user105.jpg', 'data/neutral\\\\user106.jpg', 'data/neutral\\\\user107.jpg', 'data/neutral\\\\user108.jpg', 'data/neutral\\\\user109.jpg', 'data/neutral\\\\user11.jpg', 'data/neutral\\\\user110.jpg', 'data/neutral\\\\user111.jpg', 'data/neutral\\\\user112.jpg', 'data/neutral\\\\user113.jpg', 'data/neutral\\\\user114.jpg', 'data/neutral\\\\user115.jpg', 'data/neutral\\\\user116.jpg', 'data/neutral\\\\user117.jpg', 'data/neutral\\\\user118.jpg', 'data/neutral\\\\user119.jpg', 'data/neutral\\\\user12.jpg', 'data/neutral\\\\user120.jpg', 'data/neutral\\\\user121.jpg', 'data/neutral\\\\user122.jpg', 'data/neutral\\\\user123.jpg', 'data/neutral\\\\user124.jpg', 'data/neutral\\\\user125.jpg', 'data/neutral\\\\user126.jpg', 'data/neutral\\\\user127.jpg', 'data/neutral\\\\user128.jpg', 'data/neutral\\\\user129.jpg', 'data/neutral\\\\user13.jpg', 'data/neutral\\\\user130.jpg', 'data/neutral\\\\user131.jpg', 'data/neutral\\\\user132.jpg', 'data/neutral\\\\user133.jpg', 'data/neutral\\\\user134.jpg', 'data/neutral\\\\user135.jpg', 'data/neutral\\\\user136.jpg', 'data/neutral\\\\user137.jpg', 'data/neutral\\\\user138.jpg', 'data/neutral\\\\user139.jpg', 'data/neutral\\\\user14.jpg', 'data/neutral\\\\user140.jpg', 'data/neutral\\\\user141.jpg', 'data/neutral\\\\user142.jpg', 'data/neutral\\\\user143.jpg', 'data/neutral\\\\user144.jpg', 'data/neutral\\\\user145.jpg', 'data/neutral\\\\user146.jpg', 'data/neutral\\\\user147.jpg', 'data/neutral\\\\user148.jpg', 'data/neutral\\\\user149.jpg', 'data/neutral\\\\user15.jpg', 'data/neutral\\\\user150.jpg', 'data/neutral\\\\user151.jpg', 'data/neutral\\\\user152.jpg', 'data/neutral\\\\user153.jpg', 'data/neutral\\\\user154.jpg', 'data/neutral\\\\user155.jpg', 'data/neutral\\\\user156.jpg', 'data/neutral\\\\user157.jpg', 'data/neutral\\\\user158.jpg', 'data/neutral\\\\user159.jpg', 'data/neutral\\\\user16.jpg', 'data/neutral\\\\user160.jpg', 'data/neutral\\\\user161.jpg', 'data/neutral\\\\user162.jpg', 'data/neutral\\\\user163.jpg', 'data/neutral\\\\user164.jpg', 'data/neutral\\\\user165.jpg', 'data/neutral\\\\user166.jpg', 'data/neutral\\\\user167.jpg', 'data/neutral\\\\user168.jpg', 'data/neutral\\\\user169.jpg', 'data/neutral\\\\user17.jpg', 'data/neutral\\\\user170.jpg', 'data/neutral\\\\user171.jpg', 'data/neutral\\\\user172.jpg', 'data/neutral\\\\user173.jpg', 'data/neutral\\\\user174.jpg', 'data/neutral\\\\user175.jpg', 'data/neutral\\\\user176.jpg', 'data/neutral\\\\user177.jpg', 'data/neutral\\\\user178.jpg', 'data/neutral\\\\user179.jpg', 'data/neutral\\\\user18.jpg', 'data/neutral\\\\user180.jpg', 'data/neutral\\\\user181.jpg', 'data/neutral\\\\user182.jpg', 'data/neutral\\\\user183.jpg', 'data/neutral\\\\user184.jpg', 'data/neutral\\\\user185.jpg', 'data/neutral\\\\user186.jpg', 'data/neutral\\\\user187.jpg', 'data/neutral\\\\user188.jpg', 'data/neutral\\\\user189.jpg', 'data/neutral\\\\user19.jpg', 'data/neutral\\\\user190.jpg', 'data/neutral\\\\user191.jpg', 'data/neutral\\\\user192.jpg', 'data/neutral\\\\user193.jpg', 'data/neutral\\\\user194.jpg', 'data/neutral\\\\user195.jpg', 'data/neutral\\\\user196.jpg', 'data/neutral\\\\user197.jpg', 'data/neutral\\\\user198.jpg', 'data/neutral\\\\user199.jpg', 'data/neutral\\\\user2.jpg', 'data/neutral\\\\user20.jpg', 'data/neutral\\\\user200.jpg', 'data/neutral\\\\user201.jpg', 'data/neutral\\\\user202.jpg', 'data/neutral\\\\user203.jpg', 'data/neutral\\\\user204.jpg', 'data/neutral\\\\user205.jpg', 'data/neutral\\\\user206.jpg', 'data/neutral\\\\user207.jpg', 'data/neutral\\\\user208.jpg', 'data/neutral\\\\user209.jpg', 'data/neutral\\\\user21.jpg', 'data/neutral\\\\user210.jpg', 'data/neutral\\\\user211.jpg', 'data/neutral\\\\user212.jpg', 'data/neutral\\\\user213.jpg', 'data/neutral\\\\user214.jpg', 'data/neutral\\\\user215.jpg', 'data/neutral\\\\user216.jpg', 'data/neutral\\\\user217.jpg', 'data/neutral\\\\user218.jpg', 'data/neutral\\\\user219.jpg', 'data/neutral\\\\user22.jpg', 'data/neutral\\\\user220.jpg', 'data/neutral\\\\user221.jpg', 'data/neutral\\\\user222.jpg', 'data/neutral\\\\user223.jpg', 'data/neutral\\\\user224.jpg', 'data/neutral\\\\user225.jpg', 'data/neutral\\\\user226.jpg', 'data/neutral\\\\user227.jpg', 'data/neutral\\\\user228.jpg', 'data/neutral\\\\user229.jpg', 'data/neutral\\\\user23.jpg', 'data/neutral\\\\user230.jpg', 'data/neutral\\\\user231.jpg', 'data/neutral\\\\user232.jpg', 'data/neutral\\\\user233.jpg', 'data/neutral\\\\user234.jpg', 'data/neutral\\\\user235.jpg', 'data/neutral\\\\user236.jpg', 'data/neutral\\\\user237.jpg', 'data/neutral\\\\user238.jpg', 'data/neutral\\\\user239.jpg', 'data/neutral\\\\user24.jpg', 'data/neutral\\\\user240.jpg', 'data/neutral\\\\user241.jpg', 'data/neutral\\\\user242.jpg', 'data/neutral\\\\user243.jpg', 'data/neutral\\\\user244.jpg', 'data/neutral\\\\user245.jpg', 'data/neutral\\\\user246.jpg', 'data/neutral\\\\user247.jpg', 'data/neutral\\\\user248.jpg', 'data/neutral\\\\user249.jpg', 'data/neutral\\\\user25.jpg', 'data/neutral\\\\user250.jpg', 'data/neutral\\\\user251.jpg', 'data/neutral\\\\user252.jpg', 'data/neutral\\\\user253.jpg', 'data/neutral\\\\user254.jpg', 'data/neutral\\\\user255.jpg', 'data/neutral\\\\user256.jpg', 'data/neutral\\\\user257.jpg', 'data/neutral\\\\user258.jpg', 'data/neutral\\\\user259.jpg', 'data/neutral\\\\user26.jpg', 'data/neutral\\\\user260.jpg', 'data/neutral\\\\user261.jpg', 'data/neutral\\\\user262.jpg', 'data/neutral\\\\user263.jpg', 'data/neutral\\\\user264.jpg', 'data/neutral\\\\user265.jpg', 'data/neutral\\\\user266.jpg', 'data/neutral\\\\user267.jpg', 'data/neutral\\\\user268.jpg', 'data/neutral\\\\user269.jpg', 'data/neutral\\\\user27.jpg', 'data/neutral\\\\user270.jpg', 'data/neutral\\\\user271.jpg', 'data/neutral\\\\user272.jpg', 'data/neutral\\\\user273.jpg', 'data/neutral\\\\user274.jpg', 'data/neutral\\\\user275.jpg', 'data/neutral\\\\user276.jpg', 'data/neutral\\\\user277.jpg', 'data/neutral\\\\user278.jpg', 'data/neutral\\\\user279.jpg', 'data/neutral\\\\user28.jpg', 'data/neutral\\\\user280.jpg', 'data/neutral\\\\user281.jpg', 'data/neutral\\\\user282.jpg', 'data/neutral\\\\user283.jpg', 'data/neutral\\\\user284.jpg', 'data/neutral\\\\user285.jpg', 'data/neutral\\\\user286.jpg', 'data/neutral\\\\user287.jpg', 'data/neutral\\\\user288.jpg', 'data/neutral\\\\user289.jpg', 'data/neutral\\\\user29.jpg', 'data/neutral\\\\user290.jpg', 'data/neutral\\\\user291.jpg', 'data/neutral\\\\user292.jpg', 'data/neutral\\\\user293.jpg', 'data/neutral\\\\user294.jpg', 'data/neutral\\\\user295.jpg', 'data/neutral\\\\user296.jpg', 'data/neutral\\\\user297.jpg', 'data/neutral\\\\user298.jpg', 'data/neutral\\\\user299.jpg', 'data/neutral\\\\user3.jpg', 'data/neutral\\\\user30.jpg', 'data/neutral\\\\user300.jpg', 'data/neutral\\\\user301.jpg', 'data/neutral\\\\user302.jpg', 'data/neutral\\\\user303.jpg', 'data/neutral\\\\user304.jpg', 'data/neutral\\\\user305.jpg', 'data/neutral\\\\user306.jpg', 'data/neutral\\\\user307.jpg', 'data/neutral\\\\user308.jpg', 'data/neutral\\\\user309.jpg', 'data/neutral\\\\user31.jpg', 'data/neutral\\\\user310.jpg', 'data/neutral\\\\user311.jpg', 'data/neutral\\\\user312.jpg', 'data/neutral\\\\user313.jpg', 'data/neutral\\\\user314.jpg', 'data/neutral\\\\user315.jpg', 'data/neutral\\\\user316.jpg', 'data/neutral\\\\user317.jpg', 'data/neutral\\\\user318.jpg', 'data/neutral\\\\user319.jpg', 'data/neutral\\\\user32.jpg', 'data/neutral\\\\user320.jpg', 'data/neutral\\\\user321.jpg', 'data/neutral\\\\user322.jpg', 'data/neutral\\\\user323.jpg', 'data/neutral\\\\user324.jpg', 'data/neutral\\\\user325.jpg', 'data/neutral\\\\user326.jpg', 'data/neutral\\\\user327.jpg', 'data/neutral\\\\user328.jpg', 'data/neutral\\\\user329.jpg', 'data/neutral\\\\user33.jpg', 'data/neutral\\\\user330.jpg', 'data/neutral\\\\user331.jpg', 'data/neutral\\\\user332.jpg', 'data/neutral\\\\user333.jpg', 'data/neutral\\\\user334.jpg', 'data/neutral\\\\user335.jpg', 'data/neutral\\\\user336.jpg', 'data/neutral\\\\user337.jpg', 'data/neutral\\\\user338.jpg', 'data/neutral\\\\user339.jpg', 'data/neutral\\\\user34.jpg', 'data/neutral\\\\user340.jpg', 'data/neutral\\\\user341.jpg', 'data/neutral\\\\user342.jpg', 'data/neutral\\\\user343.jpg', 'data/neutral\\\\user344.jpg', 'data/neutral\\\\user345.jpg', 'data/neutral\\\\user346.jpg', 'data/neutral\\\\user347.jpg', 'data/neutral\\\\user348.jpg', 'data/neutral\\\\user349.jpg', 'data/neutral\\\\user35.jpg', 'data/neutral\\\\user350.jpg', 'data/neutral\\\\user351.jpg', 'data/neutral\\\\user352.jpg', 'data/neutral\\\\user353.jpg', 'data/neutral\\\\user354.jpg', 'data/neutral\\\\user355.jpg', 'data/neutral\\\\user356.jpg', 'data/neutral\\\\user357.jpg', 'data/neutral\\\\user358.jpg', 'data/neutral\\\\user359.jpg', 'data/neutral\\\\user36.jpg', 'data/neutral\\\\user360.jpg', 'data/neutral\\\\user361.jpg', 'data/neutral\\\\user362.jpg', 'data/neutral\\\\user363.jpg', 'data/neutral\\\\user364.jpg', 'data/neutral\\\\user365.jpg', 'data/neutral\\\\user366.jpg', 'data/neutral\\\\user367.jpg', 'data/neutral\\\\user368.jpg', 'data/neutral\\\\user369.jpg', 'data/neutral\\\\user37.jpg', 'data/neutral\\\\user370.jpg', 'data/neutral\\\\user371.jpg', 'data/neutral\\\\user372.jpg', 'data/neutral\\\\user373.jpg', 'data/neutral\\\\user374.jpg', 'data/neutral\\\\user375.jpg', 'data/neutral\\\\user376.jpg', 'data/neutral\\\\user377.jpg', 'data/neutral\\\\user378.jpg', 'data/neutral\\\\user379.jpg', 'data/neutral\\\\user38.jpg', 'data/neutral\\\\user380.jpg', 'data/neutral\\\\user381.jpg', 'data/neutral\\\\user382.jpg', 'data/neutral\\\\user383.jpg', 'data/neutral\\\\user384.jpg', 'data/neutral\\\\user385.jpg', 'data/neutral\\\\user386.jpg', 'data/neutral\\\\user387.jpg', 'data/neutral\\\\user388.jpg', 'data/neutral\\\\user389.jpg', 'data/neutral\\\\user39.jpg', 'data/neutral\\\\user390.jpg', 'data/neutral\\\\user391.jpg', 'data/neutral\\\\user392.jpg', 'data/neutral\\\\user393.jpg', 'data/neutral\\\\user394.jpg', 'data/neutral\\\\user395.jpg', 'data/neutral\\\\user396.jpg', 'data/neutral\\\\user397.jpg', 'data/neutral\\\\user398.jpg', 'data/neutral\\\\user399.jpg', 'data/neutral\\\\user4.jpg', 'data/neutral\\\\user40.jpg', 'data/neutral\\\\user400.jpg', 'data/neutral\\\\user401.jpg', 'data/neutral\\\\user402.jpg', 'data/neutral\\\\user403.jpg', 'data/neutral\\\\user404.jpg', 'data/neutral\\\\user405.jpg', 'data/neutral\\\\user406.jpg', 'data/neutral\\\\user407.jpg', 'data/neutral\\\\user408.jpg', 'data/neutral\\\\user409.jpg', 'data/neutral\\\\user41.jpg', 'data/neutral\\\\user410.jpg', 'data/neutral\\\\user411.jpg', 'data/neutral\\\\user412.jpg', 'data/neutral\\\\user413.jpg', 'data/neutral\\\\user414.jpg', 'data/neutral\\\\user415.jpg', 'data/neutral\\\\user416.jpg', 'data/neutral\\\\user417.jpg', 'data/neutral\\\\user418.jpg', 'data/neutral\\\\user419.jpg', 'data/neutral\\\\user42.jpg', 'data/neutral\\\\user420.jpg', 'data/neutral\\\\user421.jpg', 'data/neutral\\\\user422.jpg', 'data/neutral\\\\user423.jpg', 'data/neutral\\\\user424.jpg', 'data/neutral\\\\user425.jpg', 'data/neutral\\\\user426.jpg', 'data/neutral\\\\user427.jpg', 'data/neutral\\\\user428.jpg', 'data/neutral\\\\user429.jpg', 'data/neutral\\\\user43.jpg', 'data/neutral\\\\user430.jpg', 'data/neutral\\\\user431.jpg', 'data/neutral\\\\user432.jpg', 'data/neutral\\\\user433.jpg', 'data/neutral\\\\user434.jpg', 'data/neutral\\\\user435.jpg', 'data/neutral\\\\user436.jpg', 'data/neutral\\\\user437.jpg', 'data/neutral\\\\user438.jpg', 'data/neutral\\\\user439.jpg', 'data/neutral\\\\user44.jpg', 'data/neutral\\\\user440.jpg', 'data/neutral\\\\user441.jpg', 'data/neutral\\\\user442.jpg', 'data/neutral\\\\user443.jpg', 'data/neutral\\\\user444.jpg', 'data/neutral\\\\user445.jpg', 'data/neutral\\\\user446.jpg', 'data/neutral\\\\user447.jpg', 'data/neutral\\\\user448.jpg', 'data/neutral\\\\user449.jpg', 'data/neutral\\\\user45.jpg', 'data/neutral\\\\user450.jpg', 'data/neutral\\\\user451.jpg', 'data/neutral\\\\user452.jpg', 'data/neutral\\\\user453.jpg', 'data/neutral\\\\user454.jpg', 'data/neutral\\\\user455.jpg', 'data/neutral\\\\user456.jpg', 'data/neutral\\\\user457.jpg', 'data/neutral\\\\user458.jpg', 'data/neutral\\\\user459.jpg', 'data/neutral\\\\user46.jpg', 'data/neutral\\\\user460.jpg', 'data/neutral\\\\user461.jpg', 'data/neutral\\\\user462.jpg', 'data/neutral\\\\user463.jpg', 'data/neutral\\\\user464.jpg', 'data/neutral\\\\user465.jpg', 'data/neutral\\\\user466.jpg', 'data/neutral\\\\user467.jpg', 'data/neutral\\\\user468.jpg', 'data/neutral\\\\user469.jpg', 'data/neutral\\\\user47.jpg', 'data/neutral\\\\user470.jpg', 'data/neutral\\\\user471.jpg', 'data/neutral\\\\user472.jpg', 'data/neutral\\\\user473.jpg', 'data/neutral\\\\user474.jpg', 'data/neutral\\\\user475.jpg', 'data/neutral\\\\user476.jpg', 'data/neutral\\\\user477.jpg', 'data/neutral\\\\user478.jpg', 'data/neutral\\\\user479.jpg', 'data/neutral\\\\user48.jpg', 'data/neutral\\\\user480.jpg', 'data/neutral\\\\user481.jpg', 'data/neutral\\\\user482.jpg', 'data/neutral\\\\user483.jpg', 'data/neutral\\\\user484.jpg', 'data/neutral\\\\user485.jpg', 'data/neutral\\\\user486.jpg', 'data/neutral\\\\user487.jpg', 'data/neutral\\\\user488.jpg', 'data/neutral\\\\user489.jpg', 'data/neutral\\\\user49.jpg', 'data/neutral\\\\user490.jpg', 'data/neutral\\\\user491.jpg', 'data/neutral\\\\user492.jpg', 'data/neutral\\\\user493.jpg', 'data/neutral\\\\user494.jpg', 'data/neutral\\\\user495.jpg', 'data/neutral\\\\user496.jpg', 'data/neutral\\\\user497.jpg', 'data/neutral\\\\user498.jpg', 'data/neutral\\\\user499.jpg', 'data/neutral\\\\user5.jpg', 'data/neutral\\\\user50.jpg', 'data/neutral\\\\user500.jpg', 'data/neutral\\\\user501.jpg', 'data/neutral\\\\user502.jpg', 'data/neutral\\\\user503.jpg', 'data/neutral\\\\user504.jpg', 'data/neutral\\\\user505.jpg', 'data/neutral\\\\user506.jpg', 'data/neutral\\\\user507.jpg', 'data/neutral\\\\user508.jpg', 'data/neutral\\\\user509.jpg', 'data/neutral\\\\user51.jpg', 'data/neutral\\\\user510.jpg', 'data/neutral\\\\user511.jpg', 'data/neutral\\\\user512.jpg', 'data/neutral\\\\user513.jpg', 'data/neutral\\\\user514.jpg', 'data/neutral\\\\user515.jpg', 'data/neutral\\\\user516.jpg', 'data/neutral\\\\user517.jpg', 'data/neutral\\\\user518.jpg', 'data/neutral\\\\user519.jpg', 'data/neutral\\\\user52.jpg', 'data/neutral\\\\user520.jpg', 'data/neutral\\\\user521.jpg', 'data/neutral\\\\user522.jpg', 'data/neutral\\\\user523.jpg', 'data/neutral\\\\user524.jpg', 'data/neutral\\\\user525.jpg', 'data/neutral\\\\user526.jpg', 'data/neutral\\\\user527.jpg', 'data/neutral\\\\user528.jpg', 'data/neutral\\\\user529.jpg', 'data/neutral\\\\user53.jpg', 'data/neutral\\\\user530.jpg', 'data/neutral\\\\user531.jpg', 'data/neutral\\\\user532.jpg', 'data/neutral\\\\user533.jpg', 'data/neutral\\\\user534.jpg', 'data/neutral\\\\user535.jpg', 'data/neutral\\\\user536.jpg', 'data/neutral\\\\user537.jpg', 'data/neutral\\\\user538.jpg', 'data/neutral\\\\user539.jpg', 'data/neutral\\\\user54.jpg', 'data/neutral\\\\user540.jpg', 'data/neutral\\\\user541.jpg', 'data/neutral\\\\user542.jpg', 'data/neutral\\\\user543.jpg', 'data/neutral\\\\user544.jpg', 'data/neutral\\\\user545.jpg', 'data/neutral\\\\user546.jpg', 'data/neutral\\\\user547.jpg', 'data/neutral\\\\user548.jpg', 'data/neutral\\\\user549.jpg', 'data/neutral\\\\user55.jpg', 'data/neutral\\\\user550.jpg', 'data/neutral\\\\user551.jpg', 'data/neutral\\\\user552.jpg', 'data/neutral\\\\user553.jpg', 'data/neutral\\\\user554.jpg', 'data/neutral\\\\user555.jpg', 'data/neutral\\\\user556.jpg', 'data/neutral\\\\user557.jpg', 'data/neutral\\\\user558.jpg', 'data/neutral\\\\user559.jpg', 'data/neutral\\\\user56.jpg', 'data/neutral\\\\user560.jpg', 'data/neutral\\\\user561.jpg', 'data/neutral\\\\user562.jpg', 'data/neutral\\\\user563.jpg', 'data/neutral\\\\user564.jpg', 'data/neutral\\\\user565.jpg', 'data/neutral\\\\user566.jpg', 'data/neutral\\\\user567.jpg', 'data/neutral\\\\user568.jpg', 'data/neutral\\\\user569.jpg', 'data/neutral\\\\user57.jpg', 'data/neutral\\\\user570.jpg', 'data/neutral\\\\user571.jpg', 'data/neutral\\\\user572.jpg', 'data/neutral\\\\user573.jpg', 'data/neutral\\\\user574.jpg', 'data/neutral\\\\user575.jpg', 'data/neutral\\\\user576.jpg', 'data/neutral\\\\user577.jpg', 'data/neutral\\\\user578.jpg', 'data/neutral\\\\user579.jpg', 'data/neutral\\\\user58.jpg', 'data/neutral\\\\user580.jpg', 'data/neutral\\\\user581.jpg', 'data/neutral\\\\user582.jpg', 'data/neutral\\\\user583.jpg', 'data/neutral\\\\user584.jpg', 'data/neutral\\\\user585.jpg', 'data/neutral\\\\user586.jpg', 'data/neutral\\\\user587.jpg', 'data/neutral\\\\user588.jpg', 'data/neutral\\\\user589.jpg', 'data/neutral\\\\user59.jpg', 'data/neutral\\\\user590.jpg', 'data/neutral\\\\user591.jpg', 'data/neutral\\\\user592.jpg', 'data/neutral\\\\user593.jpg', 'data/neutral\\\\user594.jpg', 'data/neutral\\\\user595.jpg', 'data/neutral\\\\user596.jpg', 'data/neutral\\\\user597.jpg', 'data/neutral\\\\user598.jpg', 'data/neutral\\\\user599.jpg', 'data/neutral\\\\user6.jpg', 'data/neutral\\\\user60.jpg', 'data/neutral\\\\user600.jpg', 'data/neutral\\\\user601.jpg', 'data/neutral\\\\user602.jpg', 'data/neutral\\\\user603.jpg', 'data/neutral\\\\user604.jpg', 'data/neutral\\\\user605.jpg', 'data/neutral\\\\user606.jpg', 'data/neutral\\\\user607.jpg', 'data/neutral\\\\user608.jpg', 'data/neutral\\\\user609.jpg', 'data/neutral\\\\user61.jpg', 'data/neutral\\\\user610.jpg', 'data/neutral\\\\user611.jpg', 'data/neutral\\\\user612.jpg', 'data/neutral\\\\user613.jpg', 'data/neutral\\\\user614.jpg', 'data/neutral\\\\user615.jpg', 'data/neutral\\\\user616.jpg', 'data/neutral\\\\user617.jpg', 'data/neutral\\\\user618.jpg', 'data/neutral\\\\user619.jpg', 'data/neutral\\\\user62.jpg', 'data/neutral\\\\user620.jpg', 'data/neutral\\\\user621.jpg', 'data/neutral\\\\user622.jpg', 'data/neutral\\\\user623.jpg', 'data/neutral\\\\user624.jpg', 'data/neutral\\\\user625.jpg', 'data/neutral\\\\user626.jpg', 'data/neutral\\\\user627.jpg', 'data/neutral\\\\user628.jpg', 'data/neutral\\\\user629.jpg', 'data/neutral\\\\user63.jpg', 'data/neutral\\\\user630.jpg', 'data/neutral\\\\user631.jpg', 'data/neutral\\\\user632.jpg', 'data/neutral\\\\user633.jpg', 'data/neutral\\\\user634.jpg', 'data/neutral\\\\user635.jpg', 'data/neutral\\\\user636.jpg', 'data/neutral\\\\user637.jpg', 'data/neutral\\\\user638.jpg', 'data/neutral\\\\user639.jpg', 'data/neutral\\\\user64.jpg', 'data/neutral\\\\user640.jpg', 'data/neutral\\\\user641.jpg', 'data/neutral\\\\user642.jpg', 'data/neutral\\\\user643.jpg', 'data/neutral\\\\user644.jpg', 'data/neutral\\\\user645.jpg', 'data/neutral\\\\user646.jpg', 'data/neutral\\\\user647.jpg', 'data/neutral\\\\user648.jpg', 'data/neutral\\\\user649.jpg', 'data/neutral\\\\user65.jpg', 'data/neutral\\\\user650.jpg', 'data/neutral\\\\user651.jpg', 'data/neutral\\\\user652.jpg', 'data/neutral\\\\user653.jpg', 'data/neutral\\\\user654.jpg', 'data/neutral\\\\user655.jpg', 'data/neutral\\\\user656.jpg', 'data/neutral\\\\user657.jpg', 'data/neutral\\\\user658.jpg', 'data/neutral\\\\user659.jpg', 'data/neutral\\\\user66.jpg', 'data/neutral\\\\user660.jpg', 'data/neutral\\\\user661.jpg', 'data/neutral\\\\user662.jpg', 'data/neutral\\\\user663.jpg', 'data/neutral\\\\user664.jpg', 'data/neutral\\\\user665.jpg', 'data/neutral\\\\user666.jpg', 'data/neutral\\\\user667.jpg', 'data/neutral\\\\user668.jpg', 'data/neutral\\\\user669.jpg', 'data/neutral\\\\user67.jpg', 'data/neutral\\\\user670.jpg', 'data/neutral\\\\user671.jpg', 'data/neutral\\\\user672.jpg', 'data/neutral\\\\user673.jpg', 'data/neutral\\\\user674.jpg', 'data/neutral\\\\user675.jpg', 'data/neutral\\\\user676.jpg', 'data/neutral\\\\user677.jpg', 'data/neutral\\\\user678.jpg', 'data/neutral\\\\user679.jpg', 'data/neutral\\\\user68.jpg', 'data/neutral\\\\user680.jpg', 'data/neutral\\\\user681.jpg', 'data/neutral\\\\user682.jpg', 'data/neutral\\\\user683.jpg', 'data/neutral\\\\user684.jpg', 'data/neutral\\\\user685.jpg', 'data/neutral\\\\user686.jpg', 'data/neutral\\\\user687.jpg', 'data/neutral\\\\user688.jpg', 'data/neutral\\\\user689.jpg', 'data/neutral\\\\user69.jpg', 'data/neutral\\\\user690.jpg', 'data/neutral\\\\user691.jpg', 'data/neutral\\\\user692.jpg', 'data/neutral\\\\user693.jpg', 'data/neutral\\\\user694.jpg', 'data/neutral\\\\user695.jpg', 'data/neutral\\\\user696.jpg', 'data/neutral\\\\user697.jpg', 'data/neutral\\\\user698.jpg', 'data/neutral\\\\user699.jpg', 'data/neutral\\\\user7.jpg', 'data/neutral\\\\user70.jpg', 'data/neutral\\\\user700.jpg', 'data/neutral\\\\user701.jpg', 'data/neutral\\\\user702.jpg', 'data/neutral\\\\user703.jpg', 'data/neutral\\\\user704.jpg', 'data/neutral\\\\user705.jpg', 'data/neutral\\\\user706.jpg', 'data/neutral\\\\user707.jpg', 'data/neutral\\\\user708.jpg', 'data/neutral\\\\user709.jpg', 'data/neutral\\\\user71.jpg', 'data/neutral\\\\user710.jpg', 'data/neutral\\\\user711.jpg', 'data/neutral\\\\user712.jpg', 'data/neutral\\\\user713.jpg', 'data/neutral\\\\user714.jpg', 'data/neutral\\\\user715.jpg', 'data/neutral\\\\user716.jpg', 'data/neutral\\\\user717.jpg', 'data/neutral\\\\user718.jpg', 'data/neutral\\\\user719.jpg', 'data/neutral\\\\user72.jpg', 'data/neutral\\\\user720.jpg', 'data/neutral\\\\user721.jpg', 'data/neutral\\\\user722.jpg', 'data/neutral\\\\user723.jpg', 'data/neutral\\\\user724.jpg', 'data/neutral\\\\user725.jpg', 'data/neutral\\\\user726.jpg', 'data/neutral\\\\user727.jpg', 'data/neutral\\\\user728.jpg', 'data/neutral\\\\user729.jpg', 'data/neutral\\\\user73.jpg', 'data/neutral\\\\user730.jpg', 'data/neutral\\\\user731.jpg', 'data/neutral\\\\user732.jpg', 'data/neutral\\\\user733.jpg', 'data/neutral\\\\user734.jpg', 'data/neutral\\\\user735.jpg', 'data/neutral\\\\user736.jpg', 'data/neutral\\\\user737.jpg', 'data/neutral\\\\user738.jpg', 'data/neutral\\\\user739.jpg', 'data/neutral\\\\user74.jpg', 'data/neutral\\\\user740.jpg', 'data/neutral\\\\user741.jpg', 'data/neutral\\\\user742.jpg', 'data/neutral\\\\user743.jpg', 'data/neutral\\\\user744.jpg', 'data/neutral\\\\user745.jpg', 'data/neutral\\\\user746.jpg', 'data/neutral\\\\user747.jpg', 'data/neutral\\\\user748.jpg', 'data/neutral\\\\user749.jpg', 'data/neutral\\\\user75.jpg', 'data/neutral\\\\user750.jpg', 'data/neutral\\\\user751.jpg', 'data/neutral\\\\user752.jpg', 'data/neutral\\\\user753.jpg', 'data/neutral\\\\user754.jpg', 'data/neutral\\\\user755.jpg', 'data/neutral\\\\user756.jpg', 'data/neutral\\\\user757.jpg', 'data/neutral\\\\user758.jpg', 'data/neutral\\\\user759.jpg', 'data/neutral\\\\user76.jpg', 'data/neutral\\\\user760.jpg', 'data/neutral\\\\user761.jpg', 'data/neutral\\\\user762.jpg', 'data/neutral\\\\user763.jpg', 'data/neutral\\\\user764.jpg', 'data/neutral\\\\user765.jpg', 'data/neutral\\\\user766.jpg', 'data/neutral\\\\user767.jpg', 'data/neutral\\\\user768.jpg', 'data/neutral\\\\user769.jpg', 'data/neutral\\\\user77.jpg', 'data/neutral\\\\user770.jpg', 'data/neutral\\\\user771.jpg', 'data/neutral\\\\user772.jpg', 'data/neutral\\\\user773.jpg', 'data/neutral\\\\user774.jpg', 'data/neutral\\\\user775.jpg', 'data/neutral\\\\user776.jpg', 'data/neutral\\\\user777.jpg', 'data/neutral\\\\user778.jpg', 'data/neutral\\\\user779.jpg', 'data/neutral\\\\user78.jpg', 'data/neutral\\\\user780.jpg', 'data/neutral\\\\user781.jpg', 'data/neutral\\\\user782.jpg', 'data/neutral\\\\user783.jpg', 'data/neutral\\\\user784.jpg', 'data/neutral\\\\user785.jpg', 'data/neutral\\\\user786.jpg', 'data/neutral\\\\user787.jpg', 'data/neutral\\\\user788.jpg', 'data/neutral\\\\user789.jpg', 'data/neutral\\\\user79.jpg', 'data/neutral\\\\user790.jpg', 'data/neutral\\\\user791.jpg', 'data/neutral\\\\user792.jpg', 'data/neutral\\\\user793.jpg', 'data/neutral\\\\user794.jpg', 'data/neutral\\\\user795.jpg', 'data/neutral\\\\user796.jpg', 'data/neutral\\\\user797.jpg', 'data/neutral\\\\user798.jpg', 'data/neutral\\\\user799.jpg', 'data/neutral\\\\user8.jpg', 'data/neutral\\\\user80.jpg', 'data/neutral\\\\user800.jpg', 'data/neutral\\\\user801.jpg', 'data/neutral\\\\user802.jpg', 'data/neutral\\\\user803.jpg', 'data/neutral\\\\user804.jpg', 'data/neutral\\\\user805.jpg', 'data/neutral\\\\user806.jpg', 'data/neutral\\\\user807.jpg', 'data/neutral\\\\user808.jpg', 'data/neutral\\\\user809.jpg', 'data/neutral\\\\user81.jpg', 'data/neutral\\\\user810.jpg', 'data/neutral\\\\user811.jpg', 'data/neutral\\\\user812.jpg', 'data/neutral\\\\user813.jpg', 'data/neutral\\\\user814.jpg', 'data/neutral\\\\user815.jpg', 'data/neutral\\\\user816.jpg', 'data/neutral\\\\user817.jpg', 'data/neutral\\\\user818.jpg', 'data/neutral\\\\user819.jpg', 'data/neutral\\\\user82.jpg', 'data/neutral\\\\user820.jpg', 'data/neutral\\\\user821.jpg', 'data/neutral\\\\user822.jpg', 'data/neutral\\\\user823.jpg', 'data/neutral\\\\user824.jpg', 'data/neutral\\\\user825.jpg', 'data/neutral\\\\user826.jpg', 'data/neutral\\\\user827.jpg', 'data/neutral\\\\user828.jpg', 'data/neutral\\\\user829.jpg', 'data/neutral\\\\user83.jpg', 'data/neutral\\\\user830.jpg', 'data/neutral\\\\user831.jpg', 'data/neutral\\\\user832.jpg', 'data/neutral\\\\user833.jpg', 'data/neutral\\\\user834.jpg', 'data/neutral\\\\user835.jpg', 'data/neutral\\\\user836.jpg', 'data/neutral\\\\user837.jpg', 'data/neutral\\\\user838.jpg', 'data/neutral\\\\user839.jpg', 'data/neutral\\\\user84.jpg', 'data/neutral\\\\user840.jpg', 'data/neutral\\\\user841.jpg', 'data/neutral\\\\user842.jpg', 'data/neutral\\\\user843.jpg', 'data/neutral\\\\user844.jpg', 'data/neutral\\\\user845.jpg', 'data/neutral\\\\user846.jpg', 'data/neutral\\\\user847.jpg', 'data/neutral\\\\user848.jpg', 'data/neutral\\\\user849.jpg', 'data/neutral\\\\user85.jpg', 'data/neutral\\\\user850.jpg', 'data/neutral\\\\user851.jpg', 'data/neutral\\\\user852.jpg', 'data/neutral\\\\user853.jpg', 'data/neutral\\\\user854.jpg', 'data/neutral\\\\user855.jpg', 'data/neutral\\\\user856.jpg', 'data/neutral\\\\user857.jpg', 'data/neutral\\\\user858.jpg', 'data/neutral\\\\user859.jpg', 'data/neutral\\\\user86.jpg', 'data/neutral\\\\user860.jpg', 'data/neutral\\\\user861.jpg', 'data/neutral\\\\user862.jpg', 'data/neutral\\\\user863.jpg', 'data/neutral\\\\user864.jpg', 'data/neutral\\\\user865.jpg', 'data/neutral\\\\user866.jpg', 'data/neutral\\\\user867.jpg', 'data/neutral\\\\user868.jpg', 'data/neutral\\\\user869.jpg', 'data/neutral\\\\user87.jpg', 'data/neutral\\\\user870.jpg', 'data/neutral\\\\user871.jpg', 'data/neutral\\\\user872.jpg', 'data/neutral\\\\user873.jpg', 'data/neutral\\\\user874.jpg', 'data/neutral\\\\user875.jpg', 'data/neutral\\\\user876.jpg', 'data/neutral\\\\user877.jpg', 'data/neutral\\\\user878.jpg', 'data/neutral\\\\user879.jpg', 'data/neutral\\\\user88.jpg', 'data/neutral\\\\user880.jpg', 'data/neutral\\\\user881.jpg', 'data/neutral\\\\user882.jpg', 'data/neutral\\\\user883.jpg', 'data/neutral\\\\user884.jpg', 'data/neutral\\\\user885.jpg', 'data/neutral\\\\user886.jpg', 'data/neutral\\\\user887.jpg', 'data/neutral\\\\user888.jpg', 'data/neutral\\\\user889.jpg', 'data/neutral\\\\user89.jpg', 'data/neutral\\\\user890.jpg', 'data/neutral\\\\user891.jpg', 'data/neutral\\\\user892.jpg', 'data/neutral\\\\user893.jpg', 'data/neutral\\\\user894.jpg', 'data/neutral\\\\user895.jpg', 'data/neutral\\\\user896.jpg', 'data/neutral\\\\user897.jpg', 'data/neutral\\\\user898.jpg', 'data/neutral\\\\user899.jpg', 'data/neutral\\\\user9.jpg', 'data/neutral\\\\user90.jpg', 'data/neutral\\\\user900.jpg', 'data/neutral\\\\user901.jpg', 'data/neutral\\\\user902.jpg', 'data/neutral\\\\user903.jpg', 'data/neutral\\\\user904.jpg', 'data/neutral\\\\user905.jpg', 'data/neutral\\\\user906.jpg', 'data/neutral\\\\user907.jpg', 'data/neutral\\\\user908.jpg', 'data/neutral\\\\user909.jpg', 'data/neutral\\\\user91.jpg', 'data/neutral\\\\user910.jpg', 'data/neutral\\\\user911.jpg', 'data/neutral\\\\user912.jpg', 'data/neutral\\\\user913.jpg', 'data/neutral\\\\user914.jpg', 'data/neutral\\\\user915.jpg', 'data/neutral\\\\user916.jpg', 'data/neutral\\\\user917.jpg', 'data/neutral\\\\user918.jpg', 'data/neutral\\\\user919.jpg', 'data/neutral\\\\user92.jpg', 'data/neutral\\\\user920.jpg', 'data/neutral\\\\user921.jpg', 'data/neutral\\\\user922.jpg', 'data/neutral\\\\user923.jpg', 'data/neutral\\\\user924.jpg', 'data/neutral\\\\user925.jpg', 'data/neutral\\\\user926.jpg', 'data/neutral\\\\user927.jpg', 'data/neutral\\\\user928.jpg', 'data/neutral\\\\user929.jpg', 'data/neutral\\\\user93.jpg', 'data/neutral\\\\user930.jpg', 'data/neutral\\\\user931.jpg', 'data/neutral\\\\user932.jpg', 'data/neutral\\\\user933.jpg', 'data/neutral\\\\user934.jpg', 'data/neutral\\\\user935.jpg', 'data/neutral\\\\user936.jpg', 'data/neutral\\\\user937.jpg', 'data/neutral\\\\user938.jpg', 'data/neutral\\\\user939.jpg', 'data/neutral\\\\user94.jpg', 'data/neutral\\\\user940.jpg', 'data/neutral\\\\user941.jpg', 'data/neutral\\\\user942.jpg', 'data/neutral\\\\user943.jpg', 'data/neutral\\\\user944.jpg', 'data/neutral\\\\user945.jpg', 'data/neutral\\\\user946.jpg', 'data/neutral\\\\user947.jpg', 'data/neutral\\\\user948.jpg', 'data/neutral\\\\user949.jpg', 'data/neutral\\\\user95.jpg', 'data/neutral\\\\user950.jpg', 'data/neutral\\\\user951.jpg', 'data/neutral\\\\user952.jpg', 'data/neutral\\\\user953.jpg', 'data/neutral\\\\user954.jpg', 'data/neutral\\\\user955.jpg', 'data/neutral\\\\user956.jpg', 'data/neutral\\\\user957.jpg', 'data/neutral\\\\user958.jpg', 'data/neutral\\\\user959.jpg', 'data/neutral\\\\user96.jpg', 'data/neutral\\\\user960.jpg', 'data/neutral\\\\user961.jpg', 'data/neutral\\\\user962.jpg', 'data/neutral\\\\user963.jpg', 'data/neutral\\\\user964.jpg', 'data/neutral\\\\user965.jpg', 'data/neutral\\\\user966.jpg', 'data/neutral\\\\user967.jpg', 'data/neutral\\\\user968.jpg', 'data/neutral\\\\user969.jpg', 'data/neutral\\\\user97.jpg', 'data/neutral\\\\user970.jpg', 'data/neutral\\\\user971.jpg', 'data/neutral\\\\user972.jpg', 'data/neutral\\\\user973.jpg', 'data/neutral\\\\user974.jpg', 'data/neutral\\\\user975.jpg', 'data/neutral\\\\user976.jpg', 'data/neutral\\\\user977.jpg', 'data/neutral\\\\user978.jpg', 'data/neutral\\\\user979.jpg', 'data/neutral\\\\user98.jpg', 'data/neutral\\\\user980.jpg', 'data/neutral\\\\user981.jpg', 'data/neutral\\\\user982.jpg', 'data/neutral\\\\user983.jpg', 'data/neutral\\\\user984.jpg', 'data/neutral\\\\user985.jpg', 'data/neutral\\\\user986.jpg', 'data/neutral\\\\user987.jpg', 'data/neutral\\\\user988.jpg', 'data/neutral\\\\user989.jpg', 'data/neutral\\\\user99.jpg', 'data/neutral\\\\user990.jpg', 'data/neutral\\\\user991.jpg', 'data/neutral\\\\user992.jpg', 'data/neutral\\\\user993.jpg', 'data/neutral\\\\user994.jpg', 'data/neutral\\\\user995.jpg', 'data/neutral\\\\user996.jpg', 'data/neutral\\\\user997.jpg', 'data/neutral\\\\user998.jpg', 'data/neutral\\\\user999.jpg']\n"
     ]
    },
    {
     "name": "stdout",
     "output_type": "stream",
     "text": [
      "data/smile\n",
      "['data/smile\\\\user1.jpg', 'data/smile\\\\user10.jpg', 'data/smile\\\\user100.jpg', 'data/smile\\\\user1000.jpg', 'data/smile\\\\user101.jpg', 'data/smile\\\\user102.jpg', 'data/smile\\\\user103.jpg', 'data/smile\\\\user104.jpg', 'data/smile\\\\user105.jpg', 'data/smile\\\\user106.jpg', 'data/smile\\\\user107.jpg', 'data/smile\\\\user108.jpg', 'data/smile\\\\user109.jpg', 'data/smile\\\\user11.jpg', 'data/smile\\\\user110.jpg', 'data/smile\\\\user111.jpg', 'data/smile\\\\user112.jpg', 'data/smile\\\\user113.jpg', 'data/smile\\\\user114.jpg', 'data/smile\\\\user115.jpg', 'data/smile\\\\user116.jpg', 'data/smile\\\\user117.jpg', 'data/smile\\\\user118.jpg', 'data/smile\\\\user119.jpg', 'data/smile\\\\user12.jpg', 'data/smile\\\\user120.jpg', 'data/smile\\\\user121.jpg', 'data/smile\\\\user122.jpg', 'data/smile\\\\user123.jpg', 'data/smile\\\\user124.jpg', 'data/smile\\\\user125.jpg', 'data/smile\\\\user126.jpg', 'data/smile\\\\user127.jpg', 'data/smile\\\\user128.jpg', 'data/smile\\\\user129.jpg', 'data/smile\\\\user13.jpg', 'data/smile\\\\user130.jpg', 'data/smile\\\\user131.jpg', 'data/smile\\\\user132.jpg', 'data/smile\\\\user133.jpg', 'data/smile\\\\user134.jpg', 'data/smile\\\\user135.jpg', 'data/smile\\\\user136.jpg', 'data/smile\\\\user137.jpg', 'data/smile\\\\user138.jpg', 'data/smile\\\\user139.jpg', 'data/smile\\\\user14.jpg', 'data/smile\\\\user140.jpg', 'data/smile\\\\user141.jpg', 'data/smile\\\\user142.jpg', 'data/smile\\\\user143.jpg', 'data/smile\\\\user144.jpg', 'data/smile\\\\user145.jpg', 'data/smile\\\\user146.jpg', 'data/smile\\\\user147.jpg', 'data/smile\\\\user148.jpg', 'data/smile\\\\user149.jpg', 'data/smile\\\\user15.jpg', 'data/smile\\\\user150.jpg', 'data/smile\\\\user151.jpg', 'data/smile\\\\user152.jpg', 'data/smile\\\\user153.jpg', 'data/smile\\\\user154.jpg', 'data/smile\\\\user155.jpg', 'data/smile\\\\user156.jpg', 'data/smile\\\\user157.jpg', 'data/smile\\\\user158.jpg', 'data/smile\\\\user159.jpg', 'data/smile\\\\user16.jpg', 'data/smile\\\\user160.jpg', 'data/smile\\\\user161.jpg', 'data/smile\\\\user162.jpg', 'data/smile\\\\user163.jpg', 'data/smile\\\\user164.jpg', 'data/smile\\\\user165.jpg', 'data/smile\\\\user166.jpg', 'data/smile\\\\user167.jpg', 'data/smile\\\\user168.jpg', 'data/smile\\\\user169.jpg', 'data/smile\\\\user17.jpg', 'data/smile\\\\user170.jpg', 'data/smile\\\\user171.jpg', 'data/smile\\\\user172.jpg', 'data/smile\\\\user173.jpg', 'data/smile\\\\user174.jpg', 'data/smile\\\\user175.jpg', 'data/smile\\\\user176.jpg', 'data/smile\\\\user177.jpg', 'data/smile\\\\user178.jpg', 'data/smile\\\\user179.jpg', 'data/smile\\\\user18.jpg', 'data/smile\\\\user180.jpg', 'data/smile\\\\user181.jpg', 'data/smile\\\\user182.jpg', 'data/smile\\\\user183.jpg', 'data/smile\\\\user184.jpg', 'data/smile\\\\user185.jpg', 'data/smile\\\\user186.jpg', 'data/smile\\\\user187.jpg', 'data/smile\\\\user188.jpg', 'data/smile\\\\user189.jpg', 'data/smile\\\\user19.jpg', 'data/smile\\\\user190.jpg', 'data/smile\\\\user191.jpg', 'data/smile\\\\user192.jpg', 'data/smile\\\\user193.jpg', 'data/smile\\\\user194.jpg', 'data/smile\\\\user195.jpg', 'data/smile\\\\user196.jpg', 'data/smile\\\\user197.jpg', 'data/smile\\\\user198.jpg', 'data/smile\\\\user199.jpg', 'data/smile\\\\user2.jpg', 'data/smile\\\\user20.jpg', 'data/smile\\\\user200.jpg', 'data/smile\\\\user201.jpg', 'data/smile\\\\user202.jpg', 'data/smile\\\\user203.jpg', 'data/smile\\\\user204.jpg', 'data/smile\\\\user205.jpg', 'data/smile\\\\user206.jpg', 'data/smile\\\\user207.jpg', 'data/smile\\\\user208.jpg', 'data/smile\\\\user209.jpg', 'data/smile\\\\user21.jpg', 'data/smile\\\\user210.jpg', 'data/smile\\\\user211.jpg', 'data/smile\\\\user212.jpg', 'data/smile\\\\user213.jpg', 'data/smile\\\\user214.jpg', 'data/smile\\\\user215.jpg', 'data/smile\\\\user216.jpg', 'data/smile\\\\user217.jpg', 'data/smile\\\\user218.jpg', 'data/smile\\\\user219.jpg', 'data/smile\\\\user22.jpg', 'data/smile\\\\user220.jpg', 'data/smile\\\\user221.jpg', 'data/smile\\\\user222.jpg', 'data/smile\\\\user223.jpg', 'data/smile\\\\user224.jpg', 'data/smile\\\\user225.jpg', 'data/smile\\\\user226.jpg', 'data/smile\\\\user227.jpg', 'data/smile\\\\user228.jpg', 'data/smile\\\\user229.jpg', 'data/smile\\\\user23.jpg', 'data/smile\\\\user230.jpg', 'data/smile\\\\user231.jpg', 'data/smile\\\\user232.jpg', 'data/smile\\\\user233.jpg', 'data/smile\\\\user234.jpg', 'data/smile\\\\user235.jpg', 'data/smile\\\\user236.jpg', 'data/smile\\\\user237.jpg', 'data/smile\\\\user238.jpg', 'data/smile\\\\user239.jpg', 'data/smile\\\\user24.jpg', 'data/smile\\\\user240.jpg', 'data/smile\\\\user241.jpg', 'data/smile\\\\user242.jpg', 'data/smile\\\\user243.jpg', 'data/smile\\\\user244.jpg', 'data/smile\\\\user245.jpg', 'data/smile\\\\user246.jpg', 'data/smile\\\\user247.jpg', 'data/smile\\\\user248.jpg', 'data/smile\\\\user249.jpg', 'data/smile\\\\user25.jpg', 'data/smile\\\\user250.jpg', 'data/smile\\\\user251.jpg', 'data/smile\\\\user252.jpg', 'data/smile\\\\user253.jpg', 'data/smile\\\\user254.jpg', 'data/smile\\\\user255.jpg', 'data/smile\\\\user256.jpg', 'data/smile\\\\user257.jpg', 'data/smile\\\\user258.jpg', 'data/smile\\\\user259.jpg', 'data/smile\\\\user26.jpg', 'data/smile\\\\user260.jpg', 'data/smile\\\\user261.jpg', 'data/smile\\\\user262.jpg', 'data/smile\\\\user263.jpg', 'data/smile\\\\user264.jpg', 'data/smile\\\\user265.jpg', 'data/smile\\\\user266.jpg', 'data/smile\\\\user267.jpg', 'data/smile\\\\user268.jpg', 'data/smile\\\\user269.jpg', 'data/smile\\\\user27.jpg', 'data/smile\\\\user270.jpg', 'data/smile\\\\user271.jpg', 'data/smile\\\\user272.jpg', 'data/smile\\\\user273.jpg', 'data/smile\\\\user274.jpg', 'data/smile\\\\user275.jpg', 'data/smile\\\\user276.jpg', 'data/smile\\\\user277.jpg', 'data/smile\\\\user278.jpg', 'data/smile\\\\user279.jpg', 'data/smile\\\\user28.jpg', 'data/smile\\\\user280.jpg', 'data/smile\\\\user281.jpg', 'data/smile\\\\user282.jpg', 'data/smile\\\\user283.jpg', 'data/smile\\\\user284.jpg', 'data/smile\\\\user285.jpg', 'data/smile\\\\user286.jpg', 'data/smile\\\\user287.jpg', 'data/smile\\\\user288.jpg', 'data/smile\\\\user289.jpg', 'data/smile\\\\user29.jpg', 'data/smile\\\\user290.jpg', 'data/smile\\\\user291.jpg', 'data/smile\\\\user292.jpg', 'data/smile\\\\user293.jpg', 'data/smile\\\\user294.jpg', 'data/smile\\\\user295.jpg', 'data/smile\\\\user296.jpg', 'data/smile\\\\user297.jpg', 'data/smile\\\\user298.jpg', 'data/smile\\\\user299.jpg', 'data/smile\\\\user3.jpg', 'data/smile\\\\user30.jpg', 'data/smile\\\\user300.jpg', 'data/smile\\\\user301.jpg', 'data/smile\\\\user302.jpg', 'data/smile\\\\user303.jpg', 'data/smile\\\\user304.jpg', 'data/smile\\\\user305.jpg', 'data/smile\\\\user306.jpg', 'data/smile\\\\user307.jpg', 'data/smile\\\\user308.jpg', 'data/smile\\\\user309.jpg', 'data/smile\\\\user31.jpg', 'data/smile\\\\user310.jpg', 'data/smile\\\\user311.jpg', 'data/smile\\\\user312.jpg', 'data/smile\\\\user313.jpg', 'data/smile\\\\user314.jpg', 'data/smile\\\\user315.jpg', 'data/smile\\\\user316.jpg', 'data/smile\\\\user317.jpg', 'data/smile\\\\user318.jpg', 'data/smile\\\\user319.jpg', 'data/smile\\\\user32.jpg', 'data/smile\\\\user320.jpg', 'data/smile\\\\user321.jpg', 'data/smile\\\\user322.jpg', 'data/smile\\\\user323.jpg', 'data/smile\\\\user324.jpg', 'data/smile\\\\user325.jpg', 'data/smile\\\\user326.jpg', 'data/smile\\\\user327.jpg', 'data/smile\\\\user328.jpg', 'data/smile\\\\user329.jpg', 'data/smile\\\\user33.jpg', 'data/smile\\\\user330.jpg', 'data/smile\\\\user331.jpg', 'data/smile\\\\user332.jpg', 'data/smile\\\\user333.jpg', 'data/smile\\\\user334.jpg', 'data/smile\\\\user335.jpg', 'data/smile\\\\user336.jpg', 'data/smile\\\\user337.jpg', 'data/smile\\\\user338.jpg', 'data/smile\\\\user339.jpg', 'data/smile\\\\user34.jpg', 'data/smile\\\\user340.jpg', 'data/smile\\\\user341.jpg', 'data/smile\\\\user342.jpg', 'data/smile\\\\user343.jpg', 'data/smile\\\\user344.jpg', 'data/smile\\\\user345.jpg', 'data/smile\\\\user346.jpg', 'data/smile\\\\user347.jpg', 'data/smile\\\\user348.jpg', 'data/smile\\\\user349.jpg', 'data/smile\\\\user35.jpg', 'data/smile\\\\user350.jpg', 'data/smile\\\\user351.jpg', 'data/smile\\\\user352.jpg', 'data/smile\\\\user353.jpg', 'data/smile\\\\user354.jpg', 'data/smile\\\\user355.jpg', 'data/smile\\\\user356.jpg', 'data/smile\\\\user357.jpg', 'data/smile\\\\user358.jpg', 'data/smile\\\\user359.jpg', 'data/smile\\\\user36.jpg', 'data/smile\\\\user360.jpg', 'data/smile\\\\user361.jpg', 'data/smile\\\\user362.jpg', 'data/smile\\\\user363.jpg', 'data/smile\\\\user364.jpg', 'data/smile\\\\user365.jpg', 'data/smile\\\\user366.jpg', 'data/smile\\\\user367.jpg', 'data/smile\\\\user368.jpg', 'data/smile\\\\user369.jpg', 'data/smile\\\\user37.jpg', 'data/smile\\\\user370.jpg', 'data/smile\\\\user371.jpg', 'data/smile\\\\user372.jpg', 'data/smile\\\\user373.jpg', 'data/smile\\\\user374.jpg', 'data/smile\\\\user375.jpg', 'data/smile\\\\user376.jpg', 'data/smile\\\\user377.jpg', 'data/smile\\\\user378.jpg', 'data/smile\\\\user379.jpg', 'data/smile\\\\user38.jpg', 'data/smile\\\\user380.jpg', 'data/smile\\\\user381.jpg', 'data/smile\\\\user382.jpg', 'data/smile\\\\user383.jpg', 'data/smile\\\\user384.jpg', 'data/smile\\\\user385.jpg', 'data/smile\\\\user386.jpg', 'data/smile\\\\user387.jpg', 'data/smile\\\\user388.jpg', 'data/smile\\\\user389.jpg', 'data/smile\\\\user39.jpg', 'data/smile\\\\user390.jpg', 'data/smile\\\\user391.jpg', 'data/smile\\\\user392.jpg', 'data/smile\\\\user393.jpg', 'data/smile\\\\user394.jpg', 'data/smile\\\\user395.jpg', 'data/smile\\\\user396.jpg', 'data/smile\\\\user397.jpg', 'data/smile\\\\user398.jpg', 'data/smile\\\\user399.jpg', 'data/smile\\\\user4.jpg', 'data/smile\\\\user40.jpg', 'data/smile\\\\user400.jpg', 'data/smile\\\\user401.jpg', 'data/smile\\\\user402.jpg', 'data/smile\\\\user403.jpg', 'data/smile\\\\user404.jpg', 'data/smile\\\\user405.jpg', 'data/smile\\\\user406.jpg', 'data/smile\\\\user407.jpg', 'data/smile\\\\user408.jpg', 'data/smile\\\\user409.jpg', 'data/smile\\\\user41.jpg', 'data/smile\\\\user410.jpg', 'data/smile\\\\user411.jpg', 'data/smile\\\\user412.jpg', 'data/smile\\\\user413.jpg', 'data/smile\\\\user414.jpg', 'data/smile\\\\user415.jpg', 'data/smile\\\\user416.jpg', 'data/smile\\\\user417.jpg', 'data/smile\\\\user418.jpg', 'data/smile\\\\user419.jpg', 'data/smile\\\\user42.jpg', 'data/smile\\\\user420.jpg', 'data/smile\\\\user421.jpg', 'data/smile\\\\user422.jpg', 'data/smile\\\\user423.jpg', 'data/smile\\\\user424.jpg', 'data/smile\\\\user425.jpg', 'data/smile\\\\user426.jpg', 'data/smile\\\\user427.jpg', 'data/smile\\\\user428.jpg', 'data/smile\\\\user429.jpg', 'data/smile\\\\user43.jpg', 'data/smile\\\\user430.jpg', 'data/smile\\\\user431.jpg', 'data/smile\\\\user432.jpg', 'data/smile\\\\user433.jpg', 'data/smile\\\\user434.jpg', 'data/smile\\\\user435.jpg', 'data/smile\\\\user436.jpg', 'data/smile\\\\user437.jpg', 'data/smile\\\\user438.jpg', 'data/smile\\\\user439.jpg', 'data/smile\\\\user44.jpg', 'data/smile\\\\user440.jpg', 'data/smile\\\\user441.jpg', 'data/smile\\\\user442.jpg', 'data/smile\\\\user443.jpg', 'data/smile\\\\user444.jpg', 'data/smile\\\\user445.jpg', 'data/smile\\\\user446.jpg', 'data/smile\\\\user447.jpg', 'data/smile\\\\user448.jpg', 'data/smile\\\\user449.jpg', 'data/smile\\\\user45.jpg', 'data/smile\\\\user450.jpg', 'data/smile\\\\user451.jpg', 'data/smile\\\\user452.jpg', 'data/smile\\\\user453.jpg', 'data/smile\\\\user454.jpg', 'data/smile\\\\user455.jpg', 'data/smile\\\\user456.jpg', 'data/smile\\\\user457.jpg', 'data/smile\\\\user458.jpg', 'data/smile\\\\user459.jpg', 'data/smile\\\\user46.jpg', 'data/smile\\\\user460.jpg', 'data/smile\\\\user461.jpg', 'data/smile\\\\user462.jpg', 'data/smile\\\\user463.jpg', 'data/smile\\\\user464.jpg', 'data/smile\\\\user465.jpg', 'data/smile\\\\user466.jpg', 'data/smile\\\\user467.jpg', 'data/smile\\\\user468.jpg', 'data/smile\\\\user469.jpg', 'data/smile\\\\user47.jpg', 'data/smile\\\\user470.jpg', 'data/smile\\\\user471.jpg', 'data/smile\\\\user472.jpg', 'data/smile\\\\user473.jpg', 'data/smile\\\\user474.jpg', 'data/smile\\\\user475.jpg', 'data/smile\\\\user476.jpg', 'data/smile\\\\user477.jpg', 'data/smile\\\\user478.jpg', 'data/smile\\\\user479.jpg', 'data/smile\\\\user48.jpg', 'data/smile\\\\user480.jpg', 'data/smile\\\\user481.jpg', 'data/smile\\\\user482.jpg', 'data/smile\\\\user483.jpg', 'data/smile\\\\user484.jpg', 'data/smile\\\\user485.jpg', 'data/smile\\\\user486.jpg', 'data/smile\\\\user487.jpg', 'data/smile\\\\user488.jpg', 'data/smile\\\\user489.jpg', 'data/smile\\\\user49.jpg', 'data/smile\\\\user490.jpg', 'data/smile\\\\user491.jpg', 'data/smile\\\\user492.jpg', 'data/smile\\\\user493.jpg', 'data/smile\\\\user494.jpg', 'data/smile\\\\user495.jpg', 'data/smile\\\\user496.jpg', 'data/smile\\\\user497.jpg', 'data/smile\\\\user498.jpg', 'data/smile\\\\user499.jpg', 'data/smile\\\\user5.jpg', 'data/smile\\\\user50.jpg', 'data/smile\\\\user500.jpg', 'data/smile\\\\user501.jpg', 'data/smile\\\\user502.jpg', 'data/smile\\\\user503.jpg', 'data/smile\\\\user504.jpg', 'data/smile\\\\user505.jpg', 'data/smile\\\\user506.jpg', 'data/smile\\\\user507.jpg', 'data/smile\\\\user508.jpg', 'data/smile\\\\user509.jpg', 'data/smile\\\\user51.jpg', 'data/smile\\\\user510.jpg', 'data/smile\\\\user511.jpg', 'data/smile\\\\user512.jpg', 'data/smile\\\\user513.jpg', 'data/smile\\\\user514.jpg', 'data/smile\\\\user515.jpg', 'data/smile\\\\user516.jpg', 'data/smile\\\\user517.jpg', 'data/smile\\\\user518.jpg', 'data/smile\\\\user519.jpg', 'data/smile\\\\user52.jpg', 'data/smile\\\\user520.jpg', 'data/smile\\\\user521.jpg', 'data/smile\\\\user522.jpg', 'data/smile\\\\user523.jpg', 'data/smile\\\\user524.jpg', 'data/smile\\\\user525.jpg', 'data/smile\\\\user526.jpg', 'data/smile\\\\user527.jpg', 'data/smile\\\\user528.jpg', 'data/smile\\\\user529.jpg', 'data/smile\\\\user53.jpg', 'data/smile\\\\user530.jpg', 'data/smile\\\\user531.jpg', 'data/smile\\\\user532.jpg', 'data/smile\\\\user533.jpg', 'data/smile\\\\user534.jpg', 'data/smile\\\\user535.jpg', 'data/smile\\\\user536.jpg', 'data/smile\\\\user537.jpg', 'data/smile\\\\user538.jpg', 'data/smile\\\\user539.jpg', 'data/smile\\\\user54.jpg', 'data/smile\\\\user540.jpg', 'data/smile\\\\user541.jpg', 'data/smile\\\\user542.jpg', 'data/smile\\\\user543.jpg', 'data/smile\\\\user544.jpg', 'data/smile\\\\user545.jpg', 'data/smile\\\\user546.jpg', 'data/smile\\\\user547.jpg', 'data/smile\\\\user548.jpg', 'data/smile\\\\user549.jpg', 'data/smile\\\\user55.jpg', 'data/smile\\\\user550.jpg', 'data/smile\\\\user551.jpg', 'data/smile\\\\user552.jpg', 'data/smile\\\\user553.jpg', 'data/smile\\\\user554.jpg', 'data/smile\\\\user555.jpg', 'data/smile\\\\user556.jpg', 'data/smile\\\\user557.jpg', 'data/smile\\\\user558.jpg', 'data/smile\\\\user559.jpg', 'data/smile\\\\user56.jpg', 'data/smile\\\\user560.jpg', 'data/smile\\\\user561.jpg', 'data/smile\\\\user562.jpg', 'data/smile\\\\user563.jpg', 'data/smile\\\\user564.jpg', 'data/smile\\\\user565.jpg', 'data/smile\\\\user566.jpg', 'data/smile\\\\user567.jpg', 'data/smile\\\\user568.jpg', 'data/smile\\\\user569.jpg', 'data/smile\\\\user57.jpg', 'data/smile\\\\user570.jpg', 'data/smile\\\\user571.jpg', 'data/smile\\\\user572.jpg', 'data/smile\\\\user573.jpg', 'data/smile\\\\user574.jpg', 'data/smile\\\\user575.jpg', 'data/smile\\\\user576.jpg', 'data/smile\\\\user577.jpg', 'data/smile\\\\user578.jpg', 'data/smile\\\\user579.jpg', 'data/smile\\\\user58.jpg', 'data/smile\\\\user580.jpg', 'data/smile\\\\user581.jpg', 'data/smile\\\\user582.jpg', 'data/smile\\\\user583.jpg', 'data/smile\\\\user584.jpg', 'data/smile\\\\user585.jpg', 'data/smile\\\\user586.jpg', 'data/smile\\\\user587.jpg', 'data/smile\\\\user588.jpg', 'data/smile\\\\user589.jpg', 'data/smile\\\\user59.jpg', 'data/smile\\\\user590.jpg', 'data/smile\\\\user591.jpg', 'data/smile\\\\user592.jpg', 'data/smile\\\\user593.jpg', 'data/smile\\\\user594.jpg', 'data/smile\\\\user595.jpg', 'data/smile\\\\user596.jpg', 'data/smile\\\\user597.jpg', 'data/smile\\\\user598.jpg', 'data/smile\\\\user599.jpg', 'data/smile\\\\user6.jpg', 'data/smile\\\\user60.jpg', 'data/smile\\\\user600.jpg', 'data/smile\\\\user601.jpg', 'data/smile\\\\user602.jpg', 'data/smile\\\\user603.jpg', 'data/smile\\\\user604.jpg', 'data/smile\\\\user605.jpg', 'data/smile\\\\user606.jpg', 'data/smile\\\\user607.jpg', 'data/smile\\\\user608.jpg', 'data/smile\\\\user609.jpg', 'data/smile\\\\user61.jpg', 'data/smile\\\\user610.jpg', 'data/smile\\\\user611.jpg', 'data/smile\\\\user612.jpg', 'data/smile\\\\user613.jpg', 'data/smile\\\\user614.jpg', 'data/smile\\\\user615.jpg', 'data/smile\\\\user616.jpg', 'data/smile\\\\user617.jpg', 'data/smile\\\\user618.jpg', 'data/smile\\\\user619.jpg', 'data/smile\\\\user62.jpg', 'data/smile\\\\user620.jpg', 'data/smile\\\\user621.jpg', 'data/smile\\\\user622.jpg', 'data/smile\\\\user623.jpg', 'data/smile\\\\user624.jpg', 'data/smile\\\\user625.jpg', 'data/smile\\\\user626.jpg', 'data/smile\\\\user627.jpg', 'data/smile\\\\user628.jpg', 'data/smile\\\\user629.jpg', 'data/smile\\\\user63.jpg', 'data/smile\\\\user630.jpg', 'data/smile\\\\user631.jpg', 'data/smile\\\\user632.jpg', 'data/smile\\\\user633.jpg', 'data/smile\\\\user634.jpg', 'data/smile\\\\user635.jpg', 'data/smile\\\\user636.jpg', 'data/smile\\\\user637.jpg', 'data/smile\\\\user638.jpg', 'data/smile\\\\user639.jpg', 'data/smile\\\\user64.jpg', 'data/smile\\\\user640.jpg', 'data/smile\\\\user641.jpg', 'data/smile\\\\user642.jpg', 'data/smile\\\\user643.jpg', 'data/smile\\\\user644.jpg', 'data/smile\\\\user645.jpg', 'data/smile\\\\user646.jpg', 'data/smile\\\\user647.jpg', 'data/smile\\\\user648.jpg', 'data/smile\\\\user649.jpg', 'data/smile\\\\user65.jpg', 'data/smile\\\\user650.jpg', 'data/smile\\\\user651.jpg', 'data/smile\\\\user652.jpg', 'data/smile\\\\user653.jpg', 'data/smile\\\\user654.jpg', 'data/smile\\\\user655.jpg', 'data/smile\\\\user656.jpg', 'data/smile\\\\user657.jpg', 'data/smile\\\\user658.jpg', 'data/smile\\\\user659.jpg', 'data/smile\\\\user66.jpg', 'data/smile\\\\user660.jpg', 'data/smile\\\\user661.jpg', 'data/smile\\\\user662.jpg', 'data/smile\\\\user663.jpg', 'data/smile\\\\user664.jpg', 'data/smile\\\\user665.jpg', 'data/smile\\\\user666.jpg', 'data/smile\\\\user667.jpg', 'data/smile\\\\user668.jpg', 'data/smile\\\\user669.jpg', 'data/smile\\\\user67.jpg', 'data/smile\\\\user670.jpg', 'data/smile\\\\user671.jpg', 'data/smile\\\\user672.jpg', 'data/smile\\\\user673.jpg', 'data/smile\\\\user674.jpg', 'data/smile\\\\user675.jpg', 'data/smile\\\\user676.jpg', 'data/smile\\\\user677.jpg', 'data/smile\\\\user678.jpg', 'data/smile\\\\user679.jpg', 'data/smile\\\\user68.jpg', 'data/smile\\\\user680.jpg', 'data/smile\\\\user681.jpg', 'data/smile\\\\user682.jpg', 'data/smile\\\\user683.jpg', 'data/smile\\\\user684.jpg', 'data/smile\\\\user685.jpg', 'data/smile\\\\user686.jpg', 'data/smile\\\\user687.jpg', 'data/smile\\\\user688.jpg', 'data/smile\\\\user689.jpg', 'data/smile\\\\user69.jpg', 'data/smile\\\\user690.jpg', 'data/smile\\\\user691.jpg', 'data/smile\\\\user692.jpg', 'data/smile\\\\user693.jpg', 'data/smile\\\\user694.jpg', 'data/smile\\\\user695.jpg', 'data/smile\\\\user696.jpg', 'data/smile\\\\user697.jpg', 'data/smile\\\\user698.jpg', 'data/smile\\\\user699.jpg', 'data/smile\\\\user7.jpg', 'data/smile\\\\user70.jpg', 'data/smile\\\\user700.jpg', 'data/smile\\\\user701.jpg', 'data/smile\\\\user702.jpg', 'data/smile\\\\user703.jpg', 'data/smile\\\\user704.jpg', 'data/smile\\\\user705.jpg', 'data/smile\\\\user706.jpg', 'data/smile\\\\user707.jpg', 'data/smile\\\\user708.jpg', 'data/smile\\\\user709.jpg', 'data/smile\\\\user71.jpg', 'data/smile\\\\user710.jpg', 'data/smile\\\\user711.jpg', 'data/smile\\\\user712.jpg', 'data/smile\\\\user713.jpg', 'data/smile\\\\user714.jpg', 'data/smile\\\\user715.jpg', 'data/smile\\\\user716.jpg', 'data/smile\\\\user717.jpg', 'data/smile\\\\user718.jpg', 'data/smile\\\\user719.jpg', 'data/smile\\\\user72.jpg', 'data/smile\\\\user720.jpg', 'data/smile\\\\user721.jpg', 'data/smile\\\\user722.jpg', 'data/smile\\\\user723.jpg', 'data/smile\\\\user724.jpg', 'data/smile\\\\user725.jpg', 'data/smile\\\\user726.jpg', 'data/smile\\\\user727.jpg', 'data/smile\\\\user728.jpg', 'data/smile\\\\user729.jpg', 'data/smile\\\\user73.jpg', 'data/smile\\\\user730.jpg', 'data/smile\\\\user731.jpg', 'data/smile\\\\user732.jpg', 'data/smile\\\\user733.jpg', 'data/smile\\\\user734.jpg', 'data/smile\\\\user735.jpg', 'data/smile\\\\user736.jpg', 'data/smile\\\\user737.jpg', 'data/smile\\\\user738.jpg', 'data/smile\\\\user739.jpg', 'data/smile\\\\user74.jpg', 'data/smile\\\\user740.jpg', 'data/smile\\\\user741.jpg', 'data/smile\\\\user742.jpg', 'data/smile\\\\user743.jpg', 'data/smile\\\\user744.jpg', 'data/smile\\\\user745.jpg', 'data/smile\\\\user746.jpg', 'data/smile\\\\user747.jpg', 'data/smile\\\\user748.jpg', 'data/smile\\\\user749.jpg', 'data/smile\\\\user75.jpg', 'data/smile\\\\user750.jpg', 'data/smile\\\\user751.jpg', 'data/smile\\\\user752.jpg', 'data/smile\\\\user753.jpg', 'data/smile\\\\user754.jpg', 'data/smile\\\\user755.jpg', 'data/smile\\\\user756.jpg', 'data/smile\\\\user757.jpg', 'data/smile\\\\user758.jpg', 'data/smile\\\\user759.jpg', 'data/smile\\\\user76.jpg', 'data/smile\\\\user760.jpg', 'data/smile\\\\user761.jpg', 'data/smile\\\\user762.jpg', 'data/smile\\\\user763.jpg', 'data/smile\\\\user764.jpg', 'data/smile\\\\user765.jpg', 'data/smile\\\\user766.jpg', 'data/smile\\\\user767.jpg', 'data/smile\\\\user768.jpg', 'data/smile\\\\user769.jpg', 'data/smile\\\\user77.jpg', 'data/smile\\\\user770.jpg', 'data/smile\\\\user771.jpg', 'data/smile\\\\user772.jpg', 'data/smile\\\\user773.jpg', 'data/smile\\\\user774.jpg', 'data/smile\\\\user775.jpg', 'data/smile\\\\user776.jpg', 'data/smile\\\\user777.jpg', 'data/smile\\\\user778.jpg', 'data/smile\\\\user779.jpg', 'data/smile\\\\user78.jpg', 'data/smile\\\\user780.jpg', 'data/smile\\\\user781.jpg', 'data/smile\\\\user782.jpg', 'data/smile\\\\user783.jpg', 'data/smile\\\\user784.jpg', 'data/smile\\\\user785.jpg', 'data/smile\\\\user786.jpg', 'data/smile\\\\user787.jpg', 'data/smile\\\\user788.jpg', 'data/smile\\\\user789.jpg', 'data/smile\\\\user79.jpg', 'data/smile\\\\user790.jpg', 'data/smile\\\\user791.jpg', 'data/smile\\\\user792.jpg', 'data/smile\\\\user793.jpg', 'data/smile\\\\user794.jpg', 'data/smile\\\\user795.jpg', 'data/smile\\\\user796.jpg', 'data/smile\\\\user797.jpg', 'data/smile\\\\user798.jpg', 'data/smile\\\\user799.jpg', 'data/smile\\\\user8.jpg', 'data/smile\\\\user80.jpg', 'data/smile\\\\user800.jpg', 'data/smile\\\\user801.jpg', 'data/smile\\\\user802.jpg', 'data/smile\\\\user803.jpg', 'data/smile\\\\user804.jpg', 'data/smile\\\\user805.jpg', 'data/smile\\\\user806.jpg', 'data/smile\\\\user807.jpg', 'data/smile\\\\user808.jpg', 'data/smile\\\\user809.jpg', 'data/smile\\\\user81.jpg', 'data/smile\\\\user810.jpg', 'data/smile\\\\user811.jpg', 'data/smile\\\\user812.jpg', 'data/smile\\\\user813.jpg', 'data/smile\\\\user814.jpg', 'data/smile\\\\user815.jpg', 'data/smile\\\\user816.jpg', 'data/smile\\\\user817.jpg', 'data/smile\\\\user818.jpg', 'data/smile\\\\user819.jpg', 'data/smile\\\\user82.jpg', 'data/smile\\\\user820.jpg', 'data/smile\\\\user821.jpg', 'data/smile\\\\user822.jpg', 'data/smile\\\\user823.jpg', 'data/smile\\\\user824.jpg', 'data/smile\\\\user825.jpg', 'data/smile\\\\user826.jpg', 'data/smile\\\\user827.jpg', 'data/smile\\\\user828.jpg', 'data/smile\\\\user829.jpg', 'data/smile\\\\user83.jpg', 'data/smile\\\\user830.jpg', 'data/smile\\\\user831.jpg', 'data/smile\\\\user832.jpg', 'data/smile\\\\user833.jpg', 'data/smile\\\\user834.jpg', 'data/smile\\\\user835.jpg', 'data/smile\\\\user836.jpg', 'data/smile\\\\user837.jpg', 'data/smile\\\\user838.jpg', 'data/smile\\\\user839.jpg', 'data/smile\\\\user84.jpg', 'data/smile\\\\user840.jpg', 'data/smile\\\\user841.jpg', 'data/smile\\\\user842.jpg', 'data/smile\\\\user843.jpg', 'data/smile\\\\user844.jpg', 'data/smile\\\\user845.jpg', 'data/smile\\\\user846.jpg', 'data/smile\\\\user847.jpg', 'data/smile\\\\user848.jpg', 'data/smile\\\\user849.jpg', 'data/smile\\\\user85.jpg', 'data/smile\\\\user850.jpg', 'data/smile\\\\user851.jpg', 'data/smile\\\\user852.jpg', 'data/smile\\\\user853.jpg', 'data/smile\\\\user854.jpg', 'data/smile\\\\user855.jpg', 'data/smile\\\\user856.jpg', 'data/smile\\\\user857.jpg', 'data/smile\\\\user858.jpg', 'data/smile\\\\user859.jpg', 'data/smile\\\\user86.jpg', 'data/smile\\\\user860.jpg', 'data/smile\\\\user861.jpg', 'data/smile\\\\user862.jpg', 'data/smile\\\\user863.jpg', 'data/smile\\\\user864.jpg', 'data/smile\\\\user865.jpg', 'data/smile\\\\user866.jpg', 'data/smile\\\\user867.jpg', 'data/smile\\\\user868.jpg', 'data/smile\\\\user869.jpg', 'data/smile\\\\user87.jpg', 'data/smile\\\\user870.jpg', 'data/smile\\\\user871.jpg', 'data/smile\\\\user872.jpg', 'data/smile\\\\user873.jpg', 'data/smile\\\\user874.jpg', 'data/smile\\\\user875.jpg', 'data/smile\\\\user876.jpg', 'data/smile\\\\user877.jpg', 'data/smile\\\\user878.jpg', 'data/smile\\\\user879.jpg', 'data/smile\\\\user88.jpg', 'data/smile\\\\user880.jpg', 'data/smile\\\\user881.jpg', 'data/smile\\\\user882.jpg', 'data/smile\\\\user883.jpg', 'data/smile\\\\user884.jpg', 'data/smile\\\\user885.jpg', 'data/smile\\\\user886.jpg', 'data/smile\\\\user887.jpg', 'data/smile\\\\user888.jpg', 'data/smile\\\\user889.jpg', 'data/smile\\\\user89.jpg', 'data/smile\\\\user890.jpg', 'data/smile\\\\user891.jpg', 'data/smile\\\\user892.jpg', 'data/smile\\\\user893.jpg', 'data/smile\\\\user894.jpg', 'data/smile\\\\user895.jpg', 'data/smile\\\\user896.jpg', 'data/smile\\\\user897.jpg', 'data/smile\\\\user898.jpg', 'data/smile\\\\user899.jpg', 'data/smile\\\\user9.jpg', 'data/smile\\\\user90.jpg', 'data/smile\\\\user900.jpg', 'data/smile\\\\user901.jpg', 'data/smile\\\\user902.jpg', 'data/smile\\\\user903.jpg', 'data/smile\\\\user904.jpg', 'data/smile\\\\user905.jpg', 'data/smile\\\\user906.jpg', 'data/smile\\\\user907.jpg', 'data/smile\\\\user908.jpg', 'data/smile\\\\user909.jpg', 'data/smile\\\\user91.jpg', 'data/smile\\\\user910.jpg', 'data/smile\\\\user911.jpg', 'data/smile\\\\user912.jpg', 'data/smile\\\\user913.jpg', 'data/smile\\\\user914.jpg', 'data/smile\\\\user915.jpg', 'data/smile\\\\user916.jpg', 'data/smile\\\\user917.jpg', 'data/smile\\\\user918.jpg', 'data/smile\\\\user919.jpg', 'data/smile\\\\user92.jpg', 'data/smile\\\\user920.jpg', 'data/smile\\\\user921.jpg', 'data/smile\\\\user922.jpg', 'data/smile\\\\user923.jpg', 'data/smile\\\\user924.jpg', 'data/smile\\\\user925.jpg', 'data/smile\\\\user926.jpg', 'data/smile\\\\user927.jpg', 'data/smile\\\\user928.jpg', 'data/smile\\\\user929.jpg', 'data/smile\\\\user93.jpg', 'data/smile\\\\user930.jpg', 'data/smile\\\\user931.jpg', 'data/smile\\\\user932.jpg', 'data/smile\\\\user933.jpg', 'data/smile\\\\user934.jpg', 'data/smile\\\\user935.jpg', 'data/smile\\\\user936.jpg', 'data/smile\\\\user937.jpg', 'data/smile\\\\user938.jpg', 'data/smile\\\\user939.jpg', 'data/smile\\\\user94.jpg', 'data/smile\\\\user940.jpg', 'data/smile\\\\user941.jpg', 'data/smile\\\\user942.jpg', 'data/smile\\\\user943.jpg', 'data/smile\\\\user944.jpg', 'data/smile\\\\user945.jpg', 'data/smile\\\\user946.jpg', 'data/smile\\\\user947.jpg', 'data/smile\\\\user948.jpg', 'data/smile\\\\user949.jpg', 'data/smile\\\\user95.jpg', 'data/smile\\\\user950.jpg', 'data/smile\\\\user951.jpg', 'data/smile\\\\user952.jpg', 'data/smile\\\\user953.jpg', 'data/smile\\\\user954.jpg', 'data/smile\\\\user955.jpg', 'data/smile\\\\user956.jpg', 'data/smile\\\\user957.jpg', 'data/smile\\\\user958.jpg', 'data/smile\\\\user959.jpg', 'data/smile\\\\user96.jpg', 'data/smile\\\\user960.jpg', 'data/smile\\\\user961.jpg', 'data/smile\\\\user962.jpg', 'data/smile\\\\user963.jpg', 'data/smile\\\\user964.jpg', 'data/smile\\\\user965.jpg', 'data/smile\\\\user966.jpg', 'data/smile\\\\user967.jpg', 'data/smile\\\\user968.jpg', 'data/smile\\\\user969.jpg', 'data/smile\\\\user97.jpg', 'data/smile\\\\user970.jpg', 'data/smile\\\\user971.jpg', 'data/smile\\\\user972.jpg', 'data/smile\\\\user973.jpg', 'data/smile\\\\user974.jpg', 'data/smile\\\\user975.jpg', 'data/smile\\\\user976.jpg', 'data/smile\\\\user977.jpg', 'data/smile\\\\user978.jpg', 'data/smile\\\\user979.jpg', 'data/smile\\\\user98.jpg', 'data/smile\\\\user980.jpg', 'data/smile\\\\user981.jpg', 'data/smile\\\\user982.jpg', 'data/smile\\\\user983.jpg', 'data/smile\\\\user984.jpg', 'data/smile\\\\user985.jpg', 'data/smile\\\\user986.jpg', 'data/smile\\\\user987.jpg', 'data/smile\\\\user988.jpg', 'data/smile\\\\user989.jpg', 'data/smile\\\\user99.jpg', 'data/smile\\\\user990.jpg', 'data/smile\\\\user991.jpg', 'data/smile\\\\user992.jpg', 'data/smile\\\\user993.jpg', 'data/smile\\\\user994.jpg', 'data/smile\\\\user995.jpg', 'data/smile\\\\user996.jpg', 'data/smile\\\\user997.jpg', 'data/smile\\\\user998.jpg', 'data/smile\\\\user999.jpg']\n"
     ]
    },
    {
     "name": "stdout",
     "output_type": "stream",
     "text": [
      "data/_emotion_training.log\n",
      "[]\n"
     ]
    }
   ],
   "source": [
    "# 200x200 size image\n",
    "\n",
    "images = []\n",
    "target = []\n",
    "idx = 0\n",
    "\n",
    "data_folder = 'data'\n",
    "folder_list = os.listdir(data_folder)\n",
    "\n",
    "for folder in folder_list:\n",
    "    folder = data_folder + '/' + folder\n",
    "    print(folder)\n",
    "    files = glob.glob(os.path.join(folder,\"*.jpg\"))\n",
    "    print(files)\n",
    "    for filename in files:\n",
    "        temp = cv2.imread(filename, 0)\n",
    "        images.append(temp)\n",
    "        target.append(idx)\n",
    "    idx += 1"
   ]
  },
  {
   "cell_type": "markdown",
   "metadata": {},
   "source": [
    "## Train/Test Split"
   ]
  },
  {
   "cell_type": "code",
   "execution_count": 40,
   "metadata": {},
   "outputs": [],
   "source": [
    "X_train, X_test, y_train, y_test = train_test_split(images, target, test_size = 0.2, random_state = 42)"
   ]
  },
  {
   "cell_type": "code",
   "execution_count": 41,
   "metadata": {},
   "outputs": [],
   "source": [
    "X_train = np.array(X_train)\n",
    "X_test = np.array(X_test)\n",
    "y_train = np.array(y_train)\n",
    "y_test = np.array(y_test)"
   ]
  },
  {
   "cell_type": "markdown",
   "metadata": {},
   "source": [
    "- Grayscale"
   ]
  },
  {
   "cell_type": "code",
   "execution_count": 42,
   "metadata": {},
   "outputs": [],
   "source": [
    "X_train = X_train.reshape(-1, 200, 200, 1)\n",
    "X_test = X_test.reshape(-1, 200, 200, 1)"
   ]
  },
  {
   "cell_type": "code",
   "execution_count": 43,
   "metadata": {},
   "outputs": [
    {
     "name": "stdout",
     "output_type": "stream",
     "text": [
      "<class 'numpy.ndarray'> <class 'numpy.ndarray'> <class 'numpy.ndarray'> <class 'numpy.ndarray'>\n"
     ]
    }
   ],
   "source": [
    "print(type(X_train), type(X_test), type(y_train), type(y_test))"
   ]
  },
  {
   "cell_type": "code",
   "execution_count": 44,
   "metadata": {},
   "outputs": [
    {
     "name": "stdout",
     "output_type": "stream",
     "text": [
      "(1600, 200, 200, 1) (400, 200, 200, 1) (1600,) (400,)\n"
     ]
    }
   ],
   "source": [
    "print(X_train.shape, X_test.shape, y_train.shape, y_test.shape)"
   ]
  },
  {
   "cell_type": "markdown",
   "metadata": {},
   "source": [
    "## Preprocessing"
   ]
  },
  {
   "cell_type": "markdown",
   "metadata": {},
   "source": [
    "- Scaling"
   ]
  },
  {
   "cell_type": "code",
   "execution_count": 45,
   "metadata": {},
   "outputs": [],
   "source": [
    "X_train = X_train / 255.0\n",
    "X_test = X_test / 255.0"
   ]
  },
  {
   "cell_type": "markdown",
   "metadata": {},
   "source": [
    "# Model"
   ]
  },
  {
   "cell_type": "markdown",
   "metadata": {},
   "source": [
    "## Parameters"
   ]
  },
  {
   "cell_type": "markdown",
   "metadata": {},
   "source": [
    "- num_classes 로 target(Emotion) 개수 조정"
   ]
  },
  {
   "cell_type": "code",
   "execution_count": 46,
   "metadata": {},
   "outputs": [],
   "source": [
    "# sharp local minima에 빠지지 않기 위해.\n",
    "batch_size = 32 # 보다 정확한 값을 원하면 16, 8까지는 줄일 수 있다. 예전에 읽은 논문에 따르면 8보다 작으면 오히려 성능이 감소할 수 있다.\n",
    "num_epochs = 110\n",
    "input_shape = (48, 48, 1)\n",
    "verbose = 1 # 상세한 logging을 출력하겠다는 의미\n",
    "num_classes = 1 # 결과물 조정\n",
    "patience = 50\n",
    "base_path = 'data/'\n",
    "l2_regularization = 0.01 # L2 정규화 사용"
   ]
  },
  {
   "cell_type": "markdown",
   "metadata": {},
   "source": [
    "### Datagen"
   ]
  },
  {
   "cell_type": "code",
   "execution_count": 47,
   "metadata": {},
   "outputs": [],
   "source": [
    "# data generator 일단 생략\n",
    "data_generator = ImageDataGenerator(\n",
    "                        featurewise_center=False,\n",
    "                        featurewise_std_normalization=False,\n",
    "                        rotation_range=10,\n",
    "                        width_shift_range=0.1,\n",
    "                        height_shift_range=0.1,\n",
    "                        zoom_range=.1,\n",
    "                        horizontal_flip=True)"
   ]
  },
  {
   "cell_type": "markdown",
   "metadata": {},
   "source": [
    "## Model paramters"
   ]
  },
  {
   "cell_type": "code",
   "execution_count": 48,
   "metadata": {},
   "outputs": [],
   "source": [
    "# model parameters\n",
    "regularization = l2(l2_regularization)"
   ]
  },
  {
   "cell_type": "code",
   "execution_count": null,
   "metadata": {},
   "outputs": [],
   "source": [
    "'''\n",
    "# base\n",
    "img_input = Input(input_shape)\n",
    "# use_bias(편향 사용) = False로 하는 이유 : batchnormalization을 사용하는 경우 이후에 \n",
    "# 평균에서 더해진 값(편향)이 빠지기 때문에 편향을 사용하는 효과가 없어지므로 False\n",
    "x = Conv2D(8, (3, 3), strides = (1, 1), kernel_regularizer = regularization, use_bias = False)(img_input)\n",
    "x = BatchNormalization()(x)\n",
    "x = Activation('relu')(x)\n",
    "x = Conv2D(8, (3, 3), strides = (1, 1), kernel_regularizer = regularization, use_bias = False)(x)\n",
    "x = BatchNormalization()(x)\n",
    "x = Activation('relu')(x)\n",
    "\n",
    "# module 1\n",
    "residual = Conv2D(16, (1, 1), strides = (2, 2), padding = 'same', use_bias = False)(x)\n",
    "residual = BatchNormalization()(residual)\n",
    "x = SeparableConv2D(16, (3, 3), padding = 'same', kernel_regularizer = regularization, use_bias = False)(x)\n",
    "x = BatchNormalization()(x)\n",
    "x = Activation('relu')(x)\n",
    "x = SeparableConv2D(16, (3, 3), padding = 'same', kernel_regularizer = regularization, use_bias = False)(x)\n",
    "x = BatchNormalization()(x)\n",
    "x = MaxPooling2D((3, 3), strides = (2, 2), padding = 'same')(x)\n",
    "x = layers.add([x, residual])\n",
    "\n",
    "# module 2\n",
    "residual = Conv2D(32, (1, 1), strides = (2, 2), padding = 'same', use_bias = False)(x)\n",
    "residual = BatchNormalization()(residual)\n",
    "x = SeparableConv2D(32, (3, 3), padding = 'same', kernel_regularizer = regularization, use_bias = False)(x)\n",
    "x = BatchNormalization()(x)\n",
    "x = Activation('relu')(x)\n",
    "x = SeparableConv2D(32, (3, 3), padding = 'same', kernel_regularizer = regularization, use_bias = False)(x)\n",
    "x = BatchNormalization()(x)\n",
    "x = MaxPooling2D((3, 3), strides = (2, 2), padding = 'same')(x)\n",
    "x = layers.add([x, residual])\n",
    "\n",
    "# module 3\n",
    "residual = Conv2D(64, (1, 1), strides = (2, 2), padding = 'same', use_bias = False)(x)\n",
    "residual = BatchNormalization()(residual)\n",
    "x = SeparableConv2D(64, (3, 3), padding = 'same', kernel_regularizer = regularization, use_bias = False)(x)\n",
    "x = BatchNormalization()(x)\n",
    "x = Activation('relu')(x)\n",
    "x = SeparableConv2D(64, (3, 3), padding = 'same', kernel_regularizer = regularization, use_bias = False)(x)\n",
    "x = BatchNormalization()(x)\n",
    "x = MaxPooling2D((3, 3), strides = (2, 2), padding = 'same')(x)\n",
    "x = layers.add([x, residual])\n",
    "\n",
    "# module 3\n",
    "residual = Conv2D(64, (1, 1), strides = (2, 2), padding = 'same', use_bias = False)(x)\n",
    "residual = BatchNormalization()(residual)\n",
    "x = SeparableConv2D(64, (3, 3), padding = 'same', kernel_regularizer = regularization, use_bias = False)(x)\n",
    "x = BatchNormalization()(x)\n",
    "x = Activation('relu')(x)\n",
    "x = SeparableConv2D(64, (3, 3), padding = 'same', kernel_regularizer = regularization, use_bias = False)(x)\n",
    "x = BatchNormalization()(x)\n",
    "x = MaxPooling2D((3, 3), strides = (2, 2), padding = 'same')(x)\n",
    "x = layers.add([x, residual])\n",
    "\n",
    "# module 4\n",
    "residual = Conv2D(128, (1, 1), strides = (2, 2), padding = 'same', use_bias = False)(x)\n",
    "residual = BatchNormalization()(residual)\n",
    "x = SeparableConv2D(128, (3, 3), padding = 'same', kernel_regularizer = regularization, use_bias = False)(x)\n",
    "x = BatchNormalization()(x)\n",
    "x = Activation('relu')(x)\n",
    "x = SeparableConv2D(128, (3, 3), padding = 'same', kernel_regularizer = regularization, use_bias = False)(x)\n",
    "x = BatchNormalization()(x)\n",
    "x = MaxPooling2D((3, 3), strides = (2, 2), padding = 'same')(x)\n",
    "x = layers.add([x, residual])\n",
    "x = Conv2D(num_classes, (3, 3), padding = 'same')(x)\n",
    "x = GlobalAveragePooling2D()(x)\n",
    "output = Activation('softmax', name = 'predictions')(x)\n",
    "\n",
    "model = Model(img_input, output)\n",
    "model.compile(optimizer = 'adam', loss = 'categorical_crossentropy', metrics = ['accuracy'])\n",
    "model.summary()\n",
    "'''"
   ]
  },
  {
   "cell_type": "code",
   "execution_count": 53,
   "metadata": {},
   "outputs": [
    {
     "name": "stdout",
     "output_type": "stream",
     "text": [
      "Model: \"sequential_1\"\n",
      "_________________________________________________________________\n",
      "Layer (type)                 Output Shape              Param #   \n",
      "=================================================================\n",
      "conv2d_36 (Conv2D)           (None, 200, 200, 32)      320       \n",
      "_________________________________________________________________\n",
      "conv2d_37 (Conv2D)           (None, 200, 200, 64)      18496     \n",
      "_________________________________________________________________\n",
      "max_pooling2d_22 (MaxPooling (None, 100, 100, 64)      0         \n",
      "_________________________________________________________________\n",
      "dropout_4 (Dropout)          (None, 100, 100, 64)      0         \n",
      "_________________________________________________________________\n",
      "conv2d_38 (Conv2D)           (None, 100, 100, 128)     73856     \n",
      "_________________________________________________________________\n",
      "conv2d_39 (Conv2D)           (None, 98, 98, 256)       295168    \n",
      "_________________________________________________________________\n",
      "max_pooling2d_23 (MaxPooling (None, 49, 49, 256)       0         \n",
      "_________________________________________________________________\n",
      "dropout_5 (Dropout)          (None, 49, 49, 256)       0         \n",
      "_________________________________________________________________\n",
      "flatten_1 (Flatten)          (None, 614656)            0         \n",
      "_________________________________________________________________\n",
      "dense_3 (Dense)              (None, 512)               314704384 \n",
      "_________________________________________________________________\n",
      "dropout_6 (Dropout)          (None, 512)               0         \n",
      "_________________________________________________________________\n",
      "dense_4 (Dense)              (None, 256)               131328    \n",
      "_________________________________________________________________\n",
      "dropout_7 (Dropout)          (None, 256)               0         \n",
      "_________________________________________________________________\n",
      "dense_5 (Dense)              (None, 10)                2570      \n",
      "=================================================================\n",
      "Total params: 315,226,122\n",
      "Trainable params: 315,226,122\n",
      "Non-trainable params: 0\n",
      "_________________________________________________________________\n"
     ]
    }
   ],
   "source": [
    "model = tf.keras.Sequential([\n",
    "  tf.keras.layers.Conv2D(input_shape=(200, 200,1), kernel_size=(3,3), filters=32, padding='same', activation='relu'),\n",
    "  tf.keras.layers.Conv2D(kernel_size=(3, 3), filters=64, padding='same', activation='relu'),\n",
    "  tf.keras.layers.MaxPool2D(pool_size=(2, 2)),\n",
    "  tf.keras.layers.Dropout(rate=0.5),\n",
    "  tf.keras.layers.Conv2D(kernel_size=(3, 3), filters=128, padding='same', activation='relu'),\n",
    "  tf.keras.layers.Conv2D(kernel_size=(3, 3), filters=256, padding='valid', activation='relu'),\n",
    "  tf.keras.layers.MaxPool2D(pool_size=(2, 2)),\n",
    "  tf.keras.layers.Dropout(rate=0.5),\n",
    "  tf.keras.layers.Flatten(),\n",
    "  tf.keras.layers.Dense(units=512, activation='relu'),\n",
    "  tf.keras.layers.Dropout(rate=0.5),\n",
    "  tf.keras.layers.Dense(units=256, activation='relu'),\n",
    "  tf.keras.layers.Dropout(rate=0.5),\n",
    "  tf.keras.layers.Dense(units=10, activation='softmax')\n",
    "])\n",
    "\n",
    "model.compile(optimizer=tf.keras.optimizers.Adam(), \n",
    "              loss='sparse_categorical_crossentropy', \n",
    "              metrics=['accuracy'])\n",
    "\n",
    "model.summary()\n"
   ]
  },
  {
   "cell_type": "code",
   "execution_count": null,
   "metadata": {},
   "outputs": [
    {
     "name": "stdout",
     "output_type": "stream",
     "text": [
      "Epoch 1/25\n",
      "38/38 [==============================] - 313s 8s/step - loss: 2.3197 - accuracy: 0.5067 - val_loss: 0.7217 - val_accuracy: 0.7625\n",
      "Epoch 2/25\n",
      "38/38 [==============================] - 377s 10s/step - loss: 0.7212 - accuracy: 0.5517 - val_loss: 0.6564 - val_accuracy: 0.5775\n",
      "Epoch 3/25\n",
      "38/38 [==============================] - 390s 10s/step - loss: 0.5705 - accuracy: 0.7025 - val_loss: 0.2761 - val_accuracy: 0.9850\n",
      "Epoch 4/25\n",
      "38/38 [==============================] - 391s 10s/step - loss: 0.3054 - accuracy: 0.8933 - val_loss: 0.0947 - val_accuracy: 0.9650\n",
      "Epoch 5/25\n",
      "38/38 [==============================] - 392s 10s/step - loss: 0.0749 - accuracy: 0.9767 - val_loss: 0.0250 - val_accuracy: 0.9975\n",
      "Epoch 6/25\n",
      "38/38 [==============================] - 389s 10s/step - loss: 0.0303 - accuracy: 0.9892 - val_loss: 3.6003e-04 - val_accuracy: 1.0000\n",
      "Epoch 7/25\n",
      "38/38 [==============================] - 390s 10s/step - loss: 0.0214 - accuracy: 0.9925 - val_loss: 2.1437e-04 - val_accuracy: 1.0000\n",
      "Epoch 8/25\n",
      "38/38 [==============================] - 390s 10s/step - loss: 0.0912 - accuracy: 0.9692 - val_loss: 0.0013 - val_accuracy: 1.0000\n",
      "Epoch 9/25\n",
      "38/38 [==============================] - 390s 10s/step - loss: 0.1143 - accuracy: 0.9717 - val_loss: 6.2798e-04 - val_accuracy: 1.0000\n",
      "Epoch 10/25\n",
      "38/38 [==============================] - 58057s 1528s/step - loss: 0.0212 - accuracy: 0.9942 - val_loss: 1.5500e-05 - val_accuracy: 1.0000\n",
      "Epoch 11/25\n",
      "10/38 [======>.......................] - ETA: 3:21 - loss: 0.0110 - accuracy: 0.9969"
     ]
    }
   ],
   "source": [
    "model.fit(X_train, y_train, epochs = 25, validation_split = 0.25)"
   ]
  },
  {
   "cell_type": "markdown",
   "metadata": {},
   "source": [
    "## Callbacks"
   ]
  },
  {
   "cell_type": "code",
   "execution_count": null,
   "metadata": {},
   "outputs": [],
   "source": [
    "'''\n",
    "# log_file_path = base_path + '_emotion_training.log'\n",
    "# csv_logger = CSVLogger(log_file_path, append = False)\n",
    "early_stop = EarlyStopping('val_loss', patience = patience)\n",
    "reduce_lr = ReduceLROnPlateau('val_loss', factor = 0.1, patience = int(patience/4), verbose = 1)\n",
    "trained_models_path = base_path + '_mini_XCEPTION'\n",
    "model_names = trained_models_path + '.{epoch:02d}-{val_acc:.2f}.hdf5'\n",
    "model_checkpoint = ModelCheckpoint(model_names, 'val_loss', verbose = 1, save_best_only = True)\n",
    "callbacks = [model_checkpoint, csv_logger, early_stop, reduce_lr]\n",
    "\n",
    "model.fit_generator(data_generator.flow(X_train, y_train, batch_size),\n",
    "                   steps_per_epoch = len(X_train) / batch_size,\n",
    "                   epochs = num_epochs, verbose = 1, callbacks = callbacks,\n",
    "                   validation_data = (X_test, y_test))\n",
    "model.fit()\n",
    "'''"
   ]
  },
  {
   "cell_type": "markdown",
   "metadata": {},
   "source": [
    "# 평가"
   ]
  },
  {
   "cell_type": "code",
   "execution_count": null,
   "metadata": {},
   "outputs": [],
   "source": [
    "import matplotlib.pyplot as plt\n",
    "plt.figure(figsize=(12, 4))\n",
    "\n",
    "plt.subplot(1, 2, 1)\n",
    "plt.plot(history.history['loss'], 'b-', label = 'loss')\n",
    "plt.plot(history.history['val_loss'], 'r--', label = 'val_loss')\n",
    "plt.xlabel('Epoch')\n",
    "plt.legend()\n",
    "\n",
    "plt.subplot(1, 2, 2)\n",
    "plt.plot(history.history['accuracy'], 'g-', label = 'accuracy')\n",
    "plt.plot(history.history['val_accuracy'], 'k--', label = 'val_accuracy')\n",
    "plt.xlabel('Epoch')\n",
    "plt.ylim(0.7, 1)\n",
    "plt.legend()\n",
    "\n",
    "plt.show()\n",
    "\n",
    "model.evaluate(X_test, y_test)"
   ]
  },
  {
   "cell_type": "code",
   "execution_count": null,
   "metadata": {},
   "outputs": [],
   "source": []
  },
  {
   "cell_type": "code",
   "execution_count": null,
   "metadata": {},
   "outputs": [],
   "source": []
  }
 ],
 "metadata": {
  "kernelspec": {
   "display_name": "Python 3",
   "language": "python",
   "name": "python3"
  },
  "language_info": {
   "codemirror_mode": {
    "name": "ipython",
    "version": 3
   },
   "file_extension": ".py",
   "mimetype": "text/x-python",
   "name": "python",
   "nbconvert_exporter": "python",
   "pygments_lexer": "ipython3",
   "version": "3.8.3"
  }
 },
 "nbformat": 4,
 "nbformat_minor": 4
}
